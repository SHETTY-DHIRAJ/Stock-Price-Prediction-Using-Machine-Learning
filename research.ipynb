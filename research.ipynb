{
 "cells": [
  {
   "cell_type": "markdown",
   "metadata": {},
   "source": [
    "# Prerequisite:\n",
    "## 1) The dataset should be in .csv format\n",
    "## 2) The dataset should contain casesensitive 'Date' and 'Close'.\n",
    "## 3) 'Date' should be in the format of yyyy-dd-mm, if the format is different then the actual formate is specified in the places where 'format=' codes are commented.\n",
    "## 4) Here we have taken CSV from https://data.nasdaq.com/data/BSE/BOM500570-tata-motors-ltd-eod-prices"
   ]
  },
  {
   "cell_type": "markdown",
   "metadata": {},
   "source": [
    "### Here we have imported all library and modules which are necessary in our project"
   ]
  },
  {
   "cell_type": "code",
   "execution_count": 1,
   "metadata": {
    "colab": {
     "base_uri": "https://localhost:8080/"
    },
    "id": "7DXn_5teUNnj",
    "outputId": "b17f91e8-5490-447f-c386-88d0dfe5ad43"
   },
   "outputs": [],
   "source": [
    "import pandas as pd\n",
    "import numpy as np\n",
    "import matplotlib.pyplot as plt\n",
    "from sklearn.preprocessing import MinMaxScaler       #Transform features by scaling each feature to a given range. It is used here in KNN and LSTM.\n",
    "from fastai.tabular.core import add_datepart         #Helper function that adds columns relevant to a date in the column. Here it is used in\n",
    "from sklearn.model_selection import train_test_split\n",
    "from sklearn.linear_model import LinearRegression\n",
    "from sklearn.metrics import r2_score, mean_absolute_error, mean_squared_error\n",
    "from sklearn import neighbors\n",
    "from sklearn.model_selection import GridSearchCV     #GridSearch is used here in KNN, SVM and Randomforest to find the best parameter.\n",
    "from keras.models import Sequential\n",
    "from keras.layers import Dense, Dropout, LSTM\n",
    "from sklearn.svm import SVR\n",
    "from sklearn.ensemble import RandomForestRegressor"
   ]
  },
  {
   "cell_type": "markdown",
   "metadata": {
    "id": "j7EbRpBhwIMR"
   },
   "source": [
    "# 1)  Data Loading"
   ]
  },
  {
   "cell_type": "markdown",
   "metadata": {},
   "source": [
    "### Here we have taken the latest .csv file dataset of TATA MOTORS LTD. and try to predict next few days price."
   ]
  },
  {
   "cell_type": "code",
   "execution_count": 2,
   "metadata": {
    "id": "-mM1RIaoUYLg"
   },
   "outputs": [],
   "source": [
    "df = pd.read_csv('tata.csv')    # Dataset\n",
    "X_future = df[['Date']]         \n",
    "X_future = X_future[0:10]       # it is used to select the last 10 days price of the selected stock"
   ]
  },
  {
   "cell_type": "code",
   "execution_count": 3,
   "metadata": {
    "colab": {
     "base_uri": "https://localhost:8080/"
    },
    "id": "33kMBhzMU0YS",
    "outputId": "5d40aa4a-4db5-42b3-bc3e-0464e487f100"
   },
   "outputs": [
    {
     "data": {
      "text/plain": [
       "(7607, 13)"
      ]
     },
     "execution_count": 3,
     "metadata": {},
     "output_type": "execute_result"
    }
   ],
   "source": [
    "df.shape"
   ]
  },
  {
   "cell_type": "code",
   "execution_count": 4,
   "metadata": {
    "colab": {
     "base_uri": "https://localhost:8080/"
    },
    "id": "FEozuNiSVO5k",
    "outputId": "43d3af8b-10fe-495e-8fbe-c91ba48e371b"
   },
   "outputs": [
    {
     "name": "stdout",
     "output_type": "stream",
     "text": [
      "<class 'pandas.core.frame.DataFrame'>\n",
      "RangeIndex: 7607 entries, 0 to 7606\n",
      "Data columns (total 13 columns):\n",
      " #   Column                     Non-Null Count  Dtype  \n",
      "---  ------                     --------------  -----  \n",
      " 0   Date                       7607 non-null   object \n",
      " 1   Open                       7607 non-null   float64\n",
      " 2   High                       7607 non-null   float64\n",
      " 3   Low                        7607 non-null   float64\n",
      " 4   Close                      7607 non-null   float64\n",
      " 5   WAP                        7607 non-null   float64\n",
      " 6   No. of Shares              7607 non-null   float64\n",
      " 7   No. of Trades              7607 non-null   float64\n",
      " 8   Total Turnover             7607 non-null   float64\n",
      " 9   Deliverable Quantity       5029 non-null   float64\n",
      " 10  % Deli. Qty to Traded Qty  5029 non-null   float64\n",
      " 11  Spread H-L                 7607 non-null   float64\n",
      " 12  Spread C-O                 7607 non-null   float64\n",
      "dtypes: float64(12), object(1)\n",
      "memory usage: 772.7+ KB\n"
     ]
    }
   ],
   "source": [
    "# Output variable: Close(Datatype: float64)\n",
    "df.info()"
   ]
  },
  {
   "cell_type": "code",
   "execution_count": 5,
   "metadata": {
    "colab": {
     "base_uri": "https://localhost:8080/",
     "height": 206
    },
    "id": "83B5FYh_V4Wx",
    "outputId": "fac55a02-07e7-45fe-d0d2-f810c92e79c7"
   },
   "outputs": [
    {
     "data": {
      "text/html": [
       "<div>\n",
       "<style scoped>\n",
       "    .dataframe tbody tr th:only-of-type {\n",
       "        vertical-align: middle;\n",
       "    }\n",
       "\n",
       "    .dataframe tbody tr th {\n",
       "        vertical-align: top;\n",
       "    }\n",
       "\n",
       "    .dataframe thead th {\n",
       "        text-align: right;\n",
       "    }\n",
       "</style>\n",
       "<table border=\"1\" class=\"dataframe\">\n",
       "  <thead>\n",
       "    <tr style=\"text-align: right;\">\n",
       "      <th></th>\n",
       "      <th>Date</th>\n",
       "      <th>Open</th>\n",
       "      <th>High</th>\n",
       "      <th>Low</th>\n",
       "      <th>Close</th>\n",
       "      <th>WAP</th>\n",
       "      <th>No. of Shares</th>\n",
       "      <th>No. of Trades</th>\n",
       "      <th>Total Turnover</th>\n",
       "      <th>Deliverable Quantity</th>\n",
       "      <th>% Deli. Qty to Traded Qty</th>\n",
       "      <th>Spread H-L</th>\n",
       "      <th>Spread C-O</th>\n",
       "    </tr>\n",
       "  </thead>\n",
       "  <tbody>\n",
       "    <tr>\n",
       "      <th>0</th>\n",
       "      <td>2022-05-26</td>\n",
       "      <td>421.4</td>\n",
       "      <td>422.55</td>\n",
       "      <td>404.95</td>\n",
       "      <td>420.70</td>\n",
       "      <td>414.20</td>\n",
       "      <td>1167082.0</td>\n",
       "      <td>24443.0</td>\n",
       "      <td>483402074.0</td>\n",
       "      <td>327447.0</td>\n",
       "      <td>28.06</td>\n",
       "      <td>17.60</td>\n",
       "      <td>-0.70</td>\n",
       "    </tr>\n",
       "    <tr>\n",
       "      <th>1</th>\n",
       "      <td>2022-05-25</td>\n",
       "      <td>428.8</td>\n",
       "      <td>428.95</td>\n",
       "      <td>413.60</td>\n",
       "      <td>417.05</td>\n",
       "      <td>419.93</td>\n",
       "      <td>509378.0</td>\n",
       "      <td>8254.0</td>\n",
       "      <td>213903135.0</td>\n",
       "      <td>106642.0</td>\n",
       "      <td>20.94</td>\n",
       "      <td>15.35</td>\n",
       "      <td>-11.75</td>\n",
       "    </tr>\n",
       "    <tr>\n",
       "      <th>2</th>\n",
       "      <td>2022-05-24</td>\n",
       "      <td>422.3</td>\n",
       "      <td>427.50</td>\n",
       "      <td>416.00</td>\n",
       "      <td>425.60</td>\n",
       "      <td>422.00</td>\n",
       "      <td>1123617.0</td>\n",
       "      <td>22290.0</td>\n",
       "      <td>474166530.0</td>\n",
       "      <td>372537.0</td>\n",
       "      <td>33.16</td>\n",
       "      <td>11.50</td>\n",
       "      <td>3.30</td>\n",
       "    </tr>\n",
       "    <tr>\n",
       "      <th>3</th>\n",
       "      <td>2022-05-23</td>\n",
       "      <td>421.1</td>\n",
       "      <td>431.10</td>\n",
       "      <td>419.70</td>\n",
       "      <td>421.60</td>\n",
       "      <td>424.70</td>\n",
       "      <td>693741.0</td>\n",
       "      <td>11490.0</td>\n",
       "      <td>294635127.0</td>\n",
       "      <td>124833.0</td>\n",
       "      <td>17.99</td>\n",
       "      <td>11.40</td>\n",
       "      <td>0.50</td>\n",
       "    </tr>\n",
       "    <tr>\n",
       "      <th>4</th>\n",
       "      <td>2022-05-20</td>\n",
       "      <td>410.0</td>\n",
       "      <td>421.35</td>\n",
       "      <td>409.20</td>\n",
       "      <td>417.95</td>\n",
       "      <td>417.54</td>\n",
       "      <td>1687548.0</td>\n",
       "      <td>32120.0</td>\n",
       "      <td>704612468.0</td>\n",
       "      <td>695716.0</td>\n",
       "      <td>41.23</td>\n",
       "      <td>12.15</td>\n",
       "      <td>7.95</td>\n",
       "    </tr>\n",
       "  </tbody>\n",
       "</table>\n",
       "</div>"
      ],
      "text/plain": [
       "         Date   Open    High     Low   Close     WAP  No. of Shares  \\\n",
       "0  2022-05-26  421.4  422.55  404.95  420.70  414.20      1167082.0   \n",
       "1  2022-05-25  428.8  428.95  413.60  417.05  419.93       509378.0   \n",
       "2  2022-05-24  422.3  427.50  416.00  425.60  422.00      1123617.0   \n",
       "3  2022-05-23  421.1  431.10  419.70  421.60  424.70       693741.0   \n",
       "4  2022-05-20  410.0  421.35  409.20  417.95  417.54      1687548.0   \n",
       "\n",
       "   No. of Trades  Total Turnover  Deliverable Quantity  \\\n",
       "0        24443.0     483402074.0              327447.0   \n",
       "1         8254.0     213903135.0              106642.0   \n",
       "2        22290.0     474166530.0              372537.0   \n",
       "3        11490.0     294635127.0              124833.0   \n",
       "4        32120.0     704612468.0              695716.0   \n",
       "\n",
       "   % Deli. Qty to Traded Qty  Spread H-L  Spread C-O  \n",
       "0                      28.06       17.60       -0.70  \n",
       "1                      20.94       15.35      -11.75  \n",
       "2                      33.16       11.50        3.30  \n",
       "3                      17.99       11.40        0.50  \n",
       "4                      41.23       12.15        7.95  "
      ]
     },
     "execution_count": 5,
     "metadata": {},
     "output_type": "execute_result"
    }
   ],
   "source": [
    "df.head()"
   ]
  },
  {
   "cell_type": "code",
   "execution_count": 6,
   "metadata": {
    "colab": {
     "base_uri": "https://localhost:8080/",
     "height": 362
    },
    "id": "dvJ0PncnV_nX",
    "outputId": "7b1d094e-c54d-4a90-e0fe-efa4bb156fdc"
   },
   "outputs": [
    {
     "data": {
      "text/html": [
       "<div>\n",
       "<style scoped>\n",
       "    .dataframe tbody tr th:only-of-type {\n",
       "        vertical-align: middle;\n",
       "    }\n",
       "\n",
       "    .dataframe tbody tr th {\n",
       "        vertical-align: top;\n",
       "    }\n",
       "\n",
       "    .dataframe thead th {\n",
       "        text-align: right;\n",
       "    }\n",
       "</style>\n",
       "<table border=\"1\" class=\"dataframe\">\n",
       "  <thead>\n",
       "    <tr style=\"text-align: right;\">\n",
       "      <th></th>\n",
       "      <th>Open</th>\n",
       "      <th>High</th>\n",
       "      <th>Low</th>\n",
       "      <th>Close</th>\n",
       "      <th>WAP</th>\n",
       "      <th>No. of Shares</th>\n",
       "      <th>No. of Trades</th>\n",
       "      <th>Total Turnover</th>\n",
       "      <th>Deliverable Quantity</th>\n",
       "      <th>% Deli. Qty to Traded Qty</th>\n",
       "      <th>Spread H-L</th>\n",
       "      <th>Spread C-O</th>\n",
       "    </tr>\n",
       "  </thead>\n",
       "  <tbody>\n",
       "    <tr>\n",
       "      <th>count</th>\n",
       "      <td>7607.000000</td>\n",
       "      <td>7607.000000</td>\n",
       "      <td>7607.000000</td>\n",
       "      <td>7607.000000</td>\n",
       "      <td>7607.000000</td>\n",
       "      <td>7.607000e+03</td>\n",
       "      <td>7607.000000</td>\n",
       "      <td>7.607000e+03</td>\n",
       "      <td>5.029000e+03</td>\n",
       "      <td>5029.000000</td>\n",
       "      <td>7607.000000</td>\n",
       "      <td>7607.000000</td>\n",
       "    </tr>\n",
       "    <tr>\n",
       "      <th>mean</th>\n",
       "      <td>391.243914</td>\n",
       "      <td>397.622157</td>\n",
       "      <td>384.161319</td>\n",
       "      <td>390.622249</td>\n",
       "      <td>345.846838</td>\n",
       "      <td>1.046049e+06</td>\n",
       "      <td>9021.339424</td>\n",
       "      <td>3.305041e+08</td>\n",
       "      <td>3.312898e+05</td>\n",
       "      <td>26.847035</td>\n",
       "      <td>13.460839</td>\n",
       "      <td>-0.621664</td>\n",
       "    </tr>\n",
       "    <tr>\n",
       "      <th>std</th>\n",
       "      <td>240.017572</td>\n",
       "      <td>243.302173</td>\n",
       "      <td>236.000844</td>\n",
       "      <td>239.552761</td>\n",
       "      <td>269.111064</td>\n",
       "      <td>1.907824e+06</td>\n",
       "      <td>11423.624310</td>\n",
       "      <td>7.600210e+08</td>\n",
       "      <td>1.512832e+06</td>\n",
       "      <td>14.669304</td>\n",
       "      <td>11.488963</td>\n",
       "      <td>10.506088</td>\n",
       "    </tr>\n",
       "    <tr>\n",
       "      <th>min</th>\n",
       "      <td>59.000000</td>\n",
       "      <td>60.500000</td>\n",
       "      <td>58.000000</td>\n",
       "      <td>58.850000</td>\n",
       "      <td>0.000000</td>\n",
       "      <td>0.000000e+00</td>\n",
       "      <td>0.000000</td>\n",
       "      <td>0.000000e+00</td>\n",
       "      <td>3.133000e+03</td>\n",
       "      <td>2.890000</td>\n",
       "      <td>0.000000</td>\n",
       "      <td>-97.800000</td>\n",
       "    </tr>\n",
       "    <tr>\n",
       "      <th>25%</th>\n",
       "      <td>199.000000</td>\n",
       "      <td>203.050000</td>\n",
       "      <td>193.325000</td>\n",
       "      <td>197.550000</td>\n",
       "      <td>141.857860</td>\n",
       "      <td>2.430575e+05</td>\n",
       "      <td>2270.000000</td>\n",
       "      <td>7.354580e+07</td>\n",
       "      <td>9.689500e+04</td>\n",
       "      <td>16.470000</td>\n",
       "      <td>6.400000</td>\n",
       "      <td>-4.950000</td>\n",
       "    </tr>\n",
       "    <tr>\n",
       "      <th>50%</th>\n",
       "      <td>357.500000</td>\n",
       "      <td>364.000000</td>\n",
       "      <td>350.700000</td>\n",
       "      <td>357.000000</td>\n",
       "      <td>311.600000</td>\n",
       "      <td>6.071340e+05</td>\n",
       "      <td>6259.000000</td>\n",
       "      <td>2.125200e+08</td>\n",
       "      <td>1.810670e+05</td>\n",
       "      <td>24.360000</td>\n",
       "      <td>10.100000</td>\n",
       "      <td>-0.450000</td>\n",
       "    </tr>\n",
       "    <tr>\n",
       "      <th>75%</th>\n",
       "      <td>495.000000</td>\n",
       "      <td>502.475000</td>\n",
       "      <td>487.000000</td>\n",
       "      <td>494.350000</td>\n",
       "      <td>474.116821</td>\n",
       "      <td>1.276294e+06</td>\n",
       "      <td>11942.000000</td>\n",
       "      <td>4.078045e+08</td>\n",
       "      <td>3.408030e+05</td>\n",
       "      <td>34.290000</td>\n",
       "      <td>16.500000</td>\n",
       "      <td>3.800000</td>\n",
       "    </tr>\n",
       "    <tr>\n",
       "      <th>max</th>\n",
       "      <td>1365.450000</td>\n",
       "      <td>1381.400000</td>\n",
       "      <td>1346.800000</td>\n",
       "      <td>1365.600000</td>\n",
       "      <td>1363.673006</td>\n",
       "      <td>8.410000e+07</td>\n",
       "      <td>166088.000000</td>\n",
       "      <td>3.807770e+10</td>\n",
       "      <td>8.376508e+07</td>\n",
       "      <td>304.280000</td>\n",
       "      <td>229.900000</td>\n",
       "      <td>78.200000</td>\n",
       "    </tr>\n",
       "  </tbody>\n",
       "</table>\n",
       "</div>"
      ],
      "text/plain": [
       "              Open         High          Low        Close          WAP  \\\n",
       "count  7607.000000  7607.000000  7607.000000  7607.000000  7607.000000   \n",
       "mean    391.243914   397.622157   384.161319   390.622249   345.846838   \n",
       "std     240.017572   243.302173   236.000844   239.552761   269.111064   \n",
       "min      59.000000    60.500000    58.000000    58.850000     0.000000   \n",
       "25%     199.000000   203.050000   193.325000   197.550000   141.857860   \n",
       "50%     357.500000   364.000000   350.700000   357.000000   311.600000   \n",
       "75%     495.000000   502.475000   487.000000   494.350000   474.116821   \n",
       "max    1365.450000  1381.400000  1346.800000  1365.600000  1363.673006   \n",
       "\n",
       "       No. of Shares  No. of Trades  Total Turnover  Deliverable Quantity  \\\n",
       "count   7.607000e+03    7607.000000    7.607000e+03          5.029000e+03   \n",
       "mean    1.046049e+06    9021.339424    3.305041e+08          3.312898e+05   \n",
       "std     1.907824e+06   11423.624310    7.600210e+08          1.512832e+06   \n",
       "min     0.000000e+00       0.000000    0.000000e+00          3.133000e+03   \n",
       "25%     2.430575e+05    2270.000000    7.354580e+07          9.689500e+04   \n",
       "50%     6.071340e+05    6259.000000    2.125200e+08          1.810670e+05   \n",
       "75%     1.276294e+06   11942.000000    4.078045e+08          3.408030e+05   \n",
       "max     8.410000e+07  166088.000000    3.807770e+10          8.376508e+07   \n",
       "\n",
       "       % Deli. Qty to Traded Qty   Spread H-L   Spread C-O  \n",
       "count                5029.000000  7607.000000  7607.000000  \n",
       "mean                   26.847035    13.460839    -0.621664  \n",
       "std                    14.669304    11.488963    10.506088  \n",
       "min                     2.890000     0.000000   -97.800000  \n",
       "25%                    16.470000     6.400000    -4.950000  \n",
       "50%                    24.360000    10.100000    -0.450000  \n",
       "75%                    34.290000    16.500000     3.800000  \n",
       "max                   304.280000   229.900000    78.200000  "
      ]
     },
     "execution_count": 6,
     "metadata": {},
     "output_type": "execute_result"
    }
   ],
   "source": [
    "df.describe()"
   ]
  },
  {
   "cell_type": "markdown",
   "metadata": {
    "id": "96ED0Dphwm9-"
   },
   "source": [
    "# 2) Data Preprocessing (Handle Missing values, Sorting)"
   ]
  },
  {
   "cell_type": "code",
   "execution_count": 7,
   "metadata": {
    "colab": {
     "base_uri": "https://localhost:8080/",
     "height": 423
    },
    "id": "Oc0eOPhzWjn7",
    "outputId": "35adc809-7589-4480-da55-a6f4825df2f7"
   },
   "outputs": [
    {
     "data": {
      "text/html": [
       "<div>\n",
       "<style scoped>\n",
       "    .dataframe tbody tr th:only-of-type {\n",
       "        vertical-align: middle;\n",
       "    }\n",
       "\n",
       "    .dataframe tbody tr th {\n",
       "        vertical-align: top;\n",
       "    }\n",
       "\n",
       "    .dataframe thead th {\n",
       "        text-align: right;\n",
       "    }\n",
       "</style>\n",
       "<table border=\"1\" class=\"dataframe\">\n",
       "  <thead>\n",
       "    <tr style=\"text-align: right;\">\n",
       "      <th></th>\n",
       "      <th>Date</th>\n",
       "      <th>Open</th>\n",
       "      <th>High</th>\n",
       "      <th>Low</th>\n",
       "      <th>Close</th>\n",
       "      <th>WAP</th>\n",
       "      <th>No. of Shares</th>\n",
       "      <th>No. of Trades</th>\n",
       "      <th>Total Turnover</th>\n",
       "      <th>Deliverable Quantity</th>\n",
       "      <th>% Deli. Qty to Traded Qty</th>\n",
       "      <th>Spread H-L</th>\n",
       "      <th>Spread C-O</th>\n",
       "    </tr>\n",
       "  </thead>\n",
       "  <tbody>\n",
       "    <tr>\n",
       "      <th>1599</th>\n",
       "      <td>2015-12-09</td>\n",
       "      <td>402.4</td>\n",
       "      <td>404.85</td>\n",
       "      <td>392.85</td>\n",
       "      <td>393.95</td>\n",
       "      <td>397.930000</td>\n",
       "      <td>470588.0</td>\n",
       "      <td>7449.0</td>\n",
       "      <td>187260567.0</td>\n",
       "      <td>NaN</td>\n",
       "      <td>NaN</td>\n",
       "      <td>12.00</td>\n",
       "      <td>-8.45</td>\n",
       "    </tr>\n",
       "    <tr>\n",
       "      <th>3389</th>\n",
       "      <td>2008-09-15</td>\n",
       "      <td>400.0</td>\n",
       "      <td>405.00</td>\n",
       "      <td>383.25</td>\n",
       "      <td>390.60</td>\n",
       "      <td>390.409112</td>\n",
       "      <td>260061.0</td>\n",
       "      <td>4775.0</td>\n",
       "      <td>101530184.0</td>\n",
       "      <td>NaN</td>\n",
       "      <td>NaN</td>\n",
       "      <td>21.75</td>\n",
       "      <td>-9.40</td>\n",
       "    </tr>\n",
       "    <tr>\n",
       "      <th>3390</th>\n",
       "      <td>2008-09-12</td>\n",
       "      <td>430.0</td>\n",
       "      <td>430.00</td>\n",
       "      <td>403.00</td>\n",
       "      <td>411.85</td>\n",
       "      <td>422.696295</td>\n",
       "      <td>273894.0</td>\n",
       "      <td>3866.0</td>\n",
       "      <td>115773979.0</td>\n",
       "      <td>NaN</td>\n",
       "      <td>NaN</td>\n",
       "      <td>27.00</td>\n",
       "      <td>-18.15</td>\n",
       "    </tr>\n",
       "    <tr>\n",
       "      <th>3391</th>\n",
       "      <td>2008-09-11</td>\n",
       "      <td>430.0</td>\n",
       "      <td>437.00</td>\n",
       "      <td>413.05</td>\n",
       "      <td>424.15</td>\n",
       "      <td>422.052693</td>\n",
       "      <td>199058.0</td>\n",
       "      <td>3310.0</td>\n",
       "      <td>84012965.0</td>\n",
       "      <td>NaN</td>\n",
       "      <td>NaN</td>\n",
       "      <td>23.95</td>\n",
       "      <td>-5.85</td>\n",
       "    </tr>\n",
       "    <tr>\n",
       "      <th>3392</th>\n",
       "      <td>2008-09-10</td>\n",
       "      <td>416.5</td>\n",
       "      <td>421.45</td>\n",
       "      <td>416.05</td>\n",
       "      <td>418.55</td>\n",
       "      <td>418.040204</td>\n",
       "      <td>113595.0</td>\n",
       "      <td>2786.0</td>\n",
       "      <td>47487277.0</td>\n",
       "      <td>NaN</td>\n",
       "      <td>NaN</td>\n",
       "      <td>5.40</td>\n",
       "      <td>2.05</td>\n",
       "    </tr>\n",
       "    <tr>\n",
       "      <th>...</th>\n",
       "      <td>...</td>\n",
       "      <td>...</td>\n",
       "      <td>...</td>\n",
       "      <td>...</td>\n",
       "      <td>...</td>\n",
       "      <td>...</td>\n",
       "      <td>...</td>\n",
       "      <td>...</td>\n",
       "      <td>...</td>\n",
       "      <td>...</td>\n",
       "      <td>...</td>\n",
       "      <td>...</td>\n",
       "      <td>...</td>\n",
       "    </tr>\n",
       "    <tr>\n",
       "      <th>7602</th>\n",
       "      <td>1991-01-11</td>\n",
       "      <td>170.0</td>\n",
       "      <td>175.00</td>\n",
       "      <td>167.50</td>\n",
       "      <td>175.00</td>\n",
       "      <td>0.000000</td>\n",
       "      <td>0.0</td>\n",
       "      <td>0.0</td>\n",
       "      <td>0.0</td>\n",
       "      <td>NaN</td>\n",
       "      <td>NaN</td>\n",
       "      <td>7.50</td>\n",
       "      <td>5.00</td>\n",
       "    </tr>\n",
       "    <tr>\n",
       "      <th>7603</th>\n",
       "      <td>1991-01-09</td>\n",
       "      <td>177.5</td>\n",
       "      <td>177.50</td>\n",
       "      <td>167.50</td>\n",
       "      <td>171.25</td>\n",
       "      <td>0.000000</td>\n",
       "      <td>0.0</td>\n",
       "      <td>0.0</td>\n",
       "      <td>0.0</td>\n",
       "      <td>NaN</td>\n",
       "      <td>NaN</td>\n",
       "      <td>10.00</td>\n",
       "      <td>-6.25</td>\n",
       "    </tr>\n",
       "    <tr>\n",
       "      <th>7604</th>\n",
       "      <td>1991-01-07</td>\n",
       "      <td>170.0</td>\n",
       "      <td>177.50</td>\n",
       "      <td>167.50</td>\n",
       "      <td>176.25</td>\n",
       "      <td>0.000000</td>\n",
       "      <td>0.0</td>\n",
       "      <td>0.0</td>\n",
       "      <td>0.0</td>\n",
       "      <td>NaN</td>\n",
       "      <td>NaN</td>\n",
       "      <td>10.00</td>\n",
       "      <td>6.25</td>\n",
       "    </tr>\n",
       "    <tr>\n",
       "      <th>7605</th>\n",
       "      <td>1991-01-03</td>\n",
       "      <td>175.0</td>\n",
       "      <td>182.50</td>\n",
       "      <td>175.00</td>\n",
       "      <td>182.50</td>\n",
       "      <td>0.000000</td>\n",
       "      <td>0.0</td>\n",
       "      <td>0.0</td>\n",
       "      <td>0.0</td>\n",
       "      <td>NaN</td>\n",
       "      <td>NaN</td>\n",
       "      <td>7.50</td>\n",
       "      <td>7.50</td>\n",
       "    </tr>\n",
       "    <tr>\n",
       "      <th>7606</th>\n",
       "      <td>1991-01-02</td>\n",
       "      <td>175.0</td>\n",
       "      <td>182.50</td>\n",
       "      <td>175.00</td>\n",
       "      <td>182.50</td>\n",
       "      <td>0.000000</td>\n",
       "      <td>0.0</td>\n",
       "      <td>0.0</td>\n",
       "      <td>0.0</td>\n",
       "      <td>NaN</td>\n",
       "      <td>NaN</td>\n",
       "      <td>7.50</td>\n",
       "      <td>7.50</td>\n",
       "    </tr>\n",
       "  </tbody>\n",
       "</table>\n",
       "<p>2578 rows × 13 columns</p>\n",
       "</div>"
      ],
      "text/plain": [
       "            Date   Open    High     Low   Close         WAP  No. of Shares  \\\n",
       "1599  2015-12-09  402.4  404.85  392.85  393.95  397.930000       470588.0   \n",
       "3389  2008-09-15  400.0  405.00  383.25  390.60  390.409112       260061.0   \n",
       "3390  2008-09-12  430.0  430.00  403.00  411.85  422.696295       273894.0   \n",
       "3391  2008-09-11  430.0  437.00  413.05  424.15  422.052693       199058.0   \n",
       "3392  2008-09-10  416.5  421.45  416.05  418.55  418.040204       113595.0   \n",
       "...          ...    ...     ...     ...     ...         ...            ...   \n",
       "7602  1991-01-11  170.0  175.00  167.50  175.00    0.000000            0.0   \n",
       "7603  1991-01-09  177.5  177.50  167.50  171.25    0.000000            0.0   \n",
       "7604  1991-01-07  170.0  177.50  167.50  176.25    0.000000            0.0   \n",
       "7605  1991-01-03  175.0  182.50  175.00  182.50    0.000000            0.0   \n",
       "7606  1991-01-02  175.0  182.50  175.00  182.50    0.000000            0.0   \n",
       "\n",
       "      No. of Trades  Total Turnover  Deliverable Quantity  \\\n",
       "1599         7449.0     187260567.0                   NaN   \n",
       "3389         4775.0     101530184.0                   NaN   \n",
       "3390         3866.0     115773979.0                   NaN   \n",
       "3391         3310.0      84012965.0                   NaN   \n",
       "3392         2786.0      47487277.0                   NaN   \n",
       "...             ...             ...                   ...   \n",
       "7602            0.0             0.0                   NaN   \n",
       "7603            0.0             0.0                   NaN   \n",
       "7604            0.0             0.0                   NaN   \n",
       "7605            0.0             0.0                   NaN   \n",
       "7606            0.0             0.0                   NaN   \n",
       "\n",
       "      % Deli. Qty to Traded Qty  Spread H-L  Spread C-O  \n",
       "1599                        NaN       12.00       -8.45  \n",
       "3389                        NaN       21.75       -9.40  \n",
       "3390                        NaN       27.00      -18.15  \n",
       "3391                        NaN       23.95       -5.85  \n",
       "3392                        NaN        5.40        2.05  \n",
       "...                         ...         ...         ...  \n",
       "7602                        NaN        7.50        5.00  \n",
       "7603                        NaN       10.00       -6.25  \n",
       "7604                        NaN       10.00        6.25  \n",
       "7605                        NaN        7.50        7.50  \n",
       "7606                        NaN        7.50        7.50  \n",
       "\n",
       "[2578 rows x 13 columns]"
      ]
     },
     "execution_count": 7,
     "metadata": {},
     "output_type": "execute_result"
    }
   ],
   "source": [
    "# Check for Missing values in data\n",
    "df[(df.isna().any(axis=1))]"
   ]
  },
  {
   "cell_type": "code",
   "execution_count": 8,
   "metadata": {
    "id": "1AqAIQjxngNg"
   },
   "outputs": [],
   "source": [
    "df = df.dropna()"
   ]
  },
  {
   "cell_type": "markdown",
   "metadata": {},
   "source": [
    "## 2.1) Data Visualization"
   ]
  },
  {
   "cell_type": "code",
   "execution_count": 9,
   "metadata": {
    "colab": {
     "base_uri": "https://localhost:8080/",
     "height": 518
    },
    "id": "L-XjeGlopID_",
    "outputId": "e333ee5a-eaf9-4633-8ea6-92b585a120cd"
   },
   "outputs": [
    {
     "data": {
      "image/png": "[encoded data removed]",
      "text/plain": [
       "<Figure size 1152x576 with 1 Axes>"
      ]
     },
     "metadata": {
      "needs_background": "light"
     },
     "output_type": "display_data"
    }
   ],
   "source": [
    "# setting index as date\n",
    "# Here if the csv file contain date in the formate %Y-%m-%d then it is default otherwise we have to use (formate = the formate Date is in %d/%m/%y)\n",
    "\n",
    "df.index = pd.to_datetime(df.Date)    #format='%m/%d/%Y'\n",
    "\n",
    "plt.figure(figsize=(16,8))\n",
    "plt.plot(df['Close'], label='Close Price history')\n",
    "plt.xlabel('Year', fontsize=15)\n",
    "plt.ylabel('Stock Price', fontsize=15)\n",
    "plt.title('Movement of stock price')\n",
    "plt.show()"
   ]
  },
  {
   "cell_type": "code",
   "execution_count": 10,
   "metadata": {
    "colab": {
     "base_uri": "https://localhost:8080/",
     "height": 282
    },
    "id": "lrhjxnabyYI5",
    "outputId": "167b59d6-0ea4-469c-e0ba-d6f9c132cd6a"
   },
   "outputs": [
    {
     "data": {
      "text/html": [
       "<div>\n",
       "<style scoped>\n",
       "    .dataframe tbody tr th:only-of-type {\n",
       "        vertical-align: middle;\n",
       "    }\n",
       "\n",
       "    .dataframe tbody tr th {\n",
       "        vertical-align: top;\n",
       "    }\n",
       "\n",
       "    .dataframe thead th {\n",
       "        text-align: right;\n",
       "    }\n",
       "</style>\n",
       "<table border=\"1\" class=\"dataframe\">\n",
       "  <thead>\n",
       "    <tr style=\"text-align: right;\">\n",
       "      <th></th>\n",
       "      <th>Date</th>\n",
       "      <th>Open</th>\n",
       "      <th>High</th>\n",
       "      <th>Low</th>\n",
       "      <th>Close</th>\n",
       "      <th>WAP</th>\n",
       "      <th>No. of Shares</th>\n",
       "      <th>No. of Trades</th>\n",
       "      <th>Total Turnover</th>\n",
       "      <th>Deliverable Quantity</th>\n",
       "      <th>% Deli. Qty to Traded Qty</th>\n",
       "      <th>Spread H-L</th>\n",
       "      <th>Spread C-O</th>\n",
       "    </tr>\n",
       "    <tr>\n",
       "      <th>Date</th>\n",
       "      <th></th>\n",
       "      <th></th>\n",
       "      <th></th>\n",
       "      <th></th>\n",
       "      <th></th>\n",
       "      <th></th>\n",
       "      <th></th>\n",
       "      <th></th>\n",
       "      <th></th>\n",
       "      <th></th>\n",
       "      <th></th>\n",
       "      <th></th>\n",
       "      <th></th>\n",
       "    </tr>\n",
       "  </thead>\n",
       "  <tbody>\n",
       "    <tr>\n",
       "      <th>2002-02-08</th>\n",
       "      <td>2002-02-08</td>\n",
       "      <td>138.00</td>\n",
       "      <td>140.5</td>\n",
       "      <td>134.00</td>\n",
       "      <td>135.10</td>\n",
       "      <td>137.573524</td>\n",
       "      <td>550807.0</td>\n",
       "      <td>4728.0</td>\n",
       "      <td>75776460.0</td>\n",
       "      <td>80314.0</td>\n",
       "      <td>14.58</td>\n",
       "      <td>6.50</td>\n",
       "      <td>-2.9</td>\n",
       "    </tr>\n",
       "    <tr>\n",
       "      <th>2002-02-15</th>\n",
       "      <td>2002-02-15</td>\n",
       "      <td>142.75</td>\n",
       "      <td>144.5</td>\n",
       "      <td>138.25</td>\n",
       "      <td>138.95</td>\n",
       "      <td>140.700633</td>\n",
       "      <td>1304457.0</td>\n",
       "      <td>7242.0</td>\n",
       "      <td>183537925.0</td>\n",
       "      <td>367425.0</td>\n",
       "      <td>28.17</td>\n",
       "      <td>6.25</td>\n",
       "      <td>-3.8</td>\n",
       "    </tr>\n",
       "    <tr>\n",
       "      <th>2002-02-18</th>\n",
       "      <td>2002-02-18</td>\n",
       "      <td>140.00</td>\n",
       "      <td>141.5</td>\n",
       "      <td>136.25</td>\n",
       "      <td>137.90</td>\n",
       "      <td>138.244919</td>\n",
       "      <td>313058.0</td>\n",
       "      <td>2174.0</td>\n",
       "      <td>43278678.0</td>\n",
       "      <td>111392.0</td>\n",
       "      <td>35.58</td>\n",
       "      <td>5.25</td>\n",
       "      <td>-2.1</td>\n",
       "    </tr>\n",
       "    <tr>\n",
       "      <th>2002-02-19</th>\n",
       "      <td>2002-02-19</td>\n",
       "      <td>137.50</td>\n",
       "      <td>142.0</td>\n",
       "      <td>136.20</td>\n",
       "      <td>136.80</td>\n",
       "      <td>139.466944</td>\n",
       "      <td>736870.0</td>\n",
       "      <td>4155.0</td>\n",
       "      <td>102769007.0</td>\n",
       "      <td>195980.0</td>\n",
       "      <td>26.60</td>\n",
       "      <td>5.80</td>\n",
       "      <td>-0.7</td>\n",
       "    </tr>\n",
       "    <tr>\n",
       "      <th>2002-02-20</th>\n",
       "      <td>2002-02-20</td>\n",
       "      <td>137.00</td>\n",
       "      <td>138.9</td>\n",
       "      <td>135.00</td>\n",
       "      <td>136.90</td>\n",
       "      <td>137.311892</td>\n",
       "      <td>363260.0</td>\n",
       "      <td>2654.0</td>\n",
       "      <td>49879918.0</td>\n",
       "      <td>70573.0</td>\n",
       "      <td>19.43</td>\n",
       "      <td>3.90</td>\n",
       "      <td>-0.1</td>\n",
       "    </tr>\n",
       "  </tbody>\n",
       "</table>\n",
       "</div>"
      ],
      "text/plain": [
       "                  Date    Open   High     Low   Close         WAP  \\\n",
       "Date                                                                \n",
       "2002-02-08  2002-02-08  138.00  140.5  134.00  135.10  137.573524   \n",
       "2002-02-15  2002-02-15  142.75  144.5  138.25  138.95  140.700633   \n",
       "2002-02-18  2002-02-18  140.00  141.5  136.25  137.90  138.244919   \n",
       "2002-02-19  2002-02-19  137.50  142.0  136.20  136.80  139.466944   \n",
       "2002-02-20  2002-02-20  137.00  138.9  135.00  136.90  137.311892   \n",
       "\n",
       "            No. of Shares  No. of Trades  Total Turnover  \\\n",
       "Date                                                       \n",
       "2002-02-08       550807.0         4728.0      75776460.0   \n",
       "2002-02-15      1304457.0         7242.0     183537925.0   \n",
       "2002-02-18       313058.0         2174.0      43278678.0   \n",
       "2002-02-19       736870.0         4155.0     102769007.0   \n",
       "2002-02-20       363260.0         2654.0      49879918.0   \n",
       "\n",
       "            Deliverable Quantity  % Deli. Qty to Traded Qty  Spread H-L  \\\n",
       "Date                                                                      \n",
       "2002-02-08               80314.0                      14.58        6.50   \n",
       "2002-02-15              367425.0                      28.17        6.25   \n",
       "2002-02-18              111392.0                      35.58        5.25   \n",
       "2002-02-19              195980.0                      26.60        5.80   \n",
       "2002-02-20               70573.0                      19.43        3.90   \n",
       "\n",
       "            Spread C-O  \n",
       "Date                    \n",
       "2002-02-08        -2.9  \n",
       "2002-02-15        -3.8  \n",
       "2002-02-18        -2.1  \n",
       "2002-02-19        -0.7  \n",
       "2002-02-20        -0.1  "
      ]
     },
     "execution_count": 10,
     "metadata": {},
     "output_type": "execute_result"
    }
   ],
   "source": [
    "sorted_df = df.sort_index(ascending=True, axis=0)\n",
    "sorted_df.head()"
   ]
  },
  {
   "cell_type": "markdown",
   "metadata": {
    "id": "VzIF8lYTw4SN"
   },
   "source": [
    "## 2.2) Feature Selection"
   ]
  },
  {
   "cell_type": "code",
   "execution_count": 11,
   "metadata": {
    "colab": {
     "base_uri": "https://localhost:8080/",
     "height": 206
    },
    "id": "rOsx3JmDEgmo",
    "outputId": "49656929-f0f5-455a-9845-e77a5299c76c"
   },
   "outputs": [
    {
     "data": {
      "text/html": [
       "<div>\n",
       "<style scoped>\n",
       "    .dataframe tbody tr th:only-of-type {\n",
       "        vertical-align: middle;\n",
       "    }\n",
       "\n",
       "    .dataframe tbody tr th {\n",
       "        vertical-align: top;\n",
       "    }\n",
       "\n",
       "    .dataframe thead th {\n",
       "        text-align: right;\n",
       "    }\n",
       "</style>\n",
       "<table border=\"1\" class=\"dataframe\">\n",
       "  <thead>\n",
       "    <tr style=\"text-align: right;\">\n",
       "      <th></th>\n",
       "      <th>Date</th>\n",
       "      <th>Close</th>\n",
       "    </tr>\n",
       "  </thead>\n",
       "  <tbody>\n",
       "    <tr>\n",
       "      <th>0</th>\n",
       "      <td>2002-02-08</td>\n",
       "      <td>135.10</td>\n",
       "    </tr>\n",
       "    <tr>\n",
       "      <th>1</th>\n",
       "      <td>2002-02-15</td>\n",
       "      <td>138.95</td>\n",
       "    </tr>\n",
       "    <tr>\n",
       "      <th>2</th>\n",
       "      <td>2002-02-18</td>\n",
       "      <td>137.90</td>\n",
       "    </tr>\n",
       "    <tr>\n",
       "      <th>3</th>\n",
       "      <td>2002-02-19</td>\n",
       "      <td>136.80</td>\n",
       "    </tr>\n",
       "    <tr>\n",
       "      <th>4</th>\n",
       "      <td>2002-02-20</td>\n",
       "      <td>136.90</td>\n",
       "    </tr>\n",
       "  </tbody>\n",
       "</table>\n",
       "</div>"
      ],
      "text/plain": [
       "         Date   Close\n",
       "0  2002-02-08  135.10\n",
       "1  2002-02-15  138.95\n",
       "2  2002-02-18  137.90\n",
       "3  2002-02-19  136.80\n",
       "4  2002-02-20  136.90"
      ]
     },
     "execution_count": 11,
     "metadata": {},
     "output_type": "execute_result"
    }
   ],
   "source": [
    "data = pd.DataFrame(columns=['Date', 'Close'])\n",
    "\n",
    "data['Date'] = sorted_df['Date'].values\n",
    "data['Close'] = sorted_df['Close'].values\n",
    "\n",
    "data.head()"
   ]
  },
  {
   "cell_type": "code",
   "execution_count": 12,
   "metadata": {
    "colab": {
     "base_uri": "https://localhost:8080/",
     "height": 238
    },
    "id": "oNGaE7Xfy3-Y",
    "outputId": "f1f8211f-f5d5-4f88-8990-5148ba827950"
   },
   "outputs": [
    {
     "data": {
      "text/html": [
       "<div>\n",
       "<style scoped>\n",
       "    .dataframe tbody tr th:only-of-type {\n",
       "        vertical-align: middle;\n",
       "    }\n",
       "\n",
       "    .dataframe tbody tr th {\n",
       "        vertical-align: top;\n",
       "    }\n",
       "\n",
       "    .dataframe thead th {\n",
       "        text-align: right;\n",
       "    }\n",
       "</style>\n",
       "<table border=\"1\" class=\"dataframe\">\n",
       "  <thead>\n",
       "    <tr style=\"text-align: right;\">\n",
       "      <th></th>\n",
       "      <th>Close</th>\n",
       "      <th>Year</th>\n",
       "      <th>Month</th>\n",
       "      <th>Week</th>\n",
       "      <th>Day</th>\n",
       "      <th>Dayofweek</th>\n",
       "      <th>Dayofyear</th>\n",
       "      <th>Is_month_end</th>\n",
       "      <th>Is_month_start</th>\n",
       "      <th>Is_quarter_end</th>\n",
       "      <th>Is_quarter_start</th>\n",
       "      <th>Is_year_end</th>\n",
       "      <th>Is_year_start</th>\n",
       "    </tr>\n",
       "    <tr>\n",
       "      <th>Date</th>\n",
       "      <th></th>\n",
       "      <th></th>\n",
       "      <th></th>\n",
       "      <th></th>\n",
       "      <th></th>\n",
       "      <th></th>\n",
       "      <th></th>\n",
       "      <th></th>\n",
       "      <th></th>\n",
       "      <th></th>\n",
       "      <th></th>\n",
       "      <th></th>\n",
       "      <th></th>\n",
       "    </tr>\n",
       "  </thead>\n",
       "  <tbody>\n",
       "    <tr>\n",
       "      <th>2002-02-08</th>\n",
       "      <td>135.10</td>\n",
       "      <td>2002</td>\n",
       "      <td>2</td>\n",
       "      <td>6</td>\n",
       "      <td>8</td>\n",
       "      <td>4</td>\n",
       "      <td>39</td>\n",
       "      <td>False</td>\n",
       "      <td>False</td>\n",
       "      <td>False</td>\n",
       "      <td>False</td>\n",
       "      <td>False</td>\n",
       "      <td>False</td>\n",
       "    </tr>\n",
       "    <tr>\n",
       "      <th>2002-02-15</th>\n",
       "      <td>138.95</td>\n",
       "      <td>2002</td>\n",
       "      <td>2</td>\n",
       "      <td>7</td>\n",
       "      <td>15</td>\n",
       "      <td>4</td>\n",
       "      <td>46</td>\n",
       "      <td>False</td>\n",
       "      <td>False</td>\n",
       "      <td>False</td>\n",
       "      <td>False</td>\n",
       "      <td>False</td>\n",
       "      <td>False</td>\n",
       "    </tr>\n",
       "    <tr>\n",
       "      <th>2002-02-18</th>\n",
       "      <td>137.90</td>\n",
       "      <td>2002</td>\n",
       "      <td>2</td>\n",
       "      <td>8</td>\n",
       "      <td>18</td>\n",
       "      <td>0</td>\n",
       "      <td>49</td>\n",
       "      <td>False</td>\n",
       "      <td>False</td>\n",
       "      <td>False</td>\n",
       "      <td>False</td>\n",
       "      <td>False</td>\n",
       "      <td>False</td>\n",
       "    </tr>\n",
       "    <tr>\n",
       "      <th>2002-02-19</th>\n",
       "      <td>136.80</td>\n",
       "      <td>2002</td>\n",
       "      <td>2</td>\n",
       "      <td>8</td>\n",
       "      <td>19</td>\n",
       "      <td>1</td>\n",
       "      <td>50</td>\n",
       "      <td>False</td>\n",
       "      <td>False</td>\n",
       "      <td>False</td>\n",
       "      <td>False</td>\n",
       "      <td>False</td>\n",
       "      <td>False</td>\n",
       "    </tr>\n",
       "    <tr>\n",
       "      <th>2002-02-20</th>\n",
       "      <td>136.90</td>\n",
       "      <td>2002</td>\n",
       "      <td>2</td>\n",
       "      <td>8</td>\n",
       "      <td>20</td>\n",
       "      <td>2</td>\n",
       "      <td>51</td>\n",
       "      <td>False</td>\n",
       "      <td>False</td>\n",
       "      <td>False</td>\n",
       "      <td>False</td>\n",
       "      <td>False</td>\n",
       "      <td>False</td>\n",
       "    </tr>\n",
       "  </tbody>\n",
       "</table>\n",
       "</div>"
      ],
      "text/plain": [
       "             Close  Year  Month  Week  Day  Dayofweek  Dayofyear  \\\n",
       "Date                                                               \n",
       "2002-02-08  135.10  2002      2     6    8          4         39   \n",
       "2002-02-15  138.95  2002      2     7   15          4         46   \n",
       "2002-02-18  137.90  2002      2     8   18          0         49   \n",
       "2002-02-19  136.80  2002      2     8   19          1         50   \n",
       "2002-02-20  136.90  2002      2     8   20          2         51   \n",
       "\n",
       "            Is_month_end  Is_month_start  Is_quarter_end  Is_quarter_start  \\\n",
       "Date                                                                         \n",
       "2002-02-08         False           False           False             False   \n",
       "2002-02-15         False           False           False             False   \n",
       "2002-02-18         False           False           False             False   \n",
       "2002-02-19         False           False           False             False   \n",
       "2002-02-20         False           False           False             False   \n",
       "\n",
       "            Is_year_end  Is_year_start  \n",
       "Date                                    \n",
       "2002-02-08        False          False  \n",
       "2002-02-15        False          False  \n",
       "2002-02-18        False          False  \n",
       "2002-02-19        False          False  \n",
       "2002-02-20        False          False  "
      ]
     },
     "execution_count": 12,
     "metadata": {},
     "output_type": "execute_result"
    }
   ],
   "source": [
    "# Adding new features\n",
    "\n",
    "add_datepart(data, 'Date')\n",
    "data.index = sorted_df.index\n",
    "data.drop('Elapsed', axis=1, inplace=True)    #elapsed will be the time stamp (hh:mm:ss) i.e here it will be 1.653523e+09\n",
    "data.head()"
   ]
  },
  {
   "cell_type": "markdown",
   "metadata": {
    "id": "H0AOxqHNxbln"
   },
   "source": [
    "## 2.3) Split Data into Training and Testing Datasets (80:20)"
   ]
  },
  {
   "cell_type": "code",
   "execution_count": 13,
   "metadata": {
    "colab": {
     "base_uri": "https://localhost:8080/",
     "height": 238
    },
    "id": "wMbv1928rW3q",
    "outputId": "cf0648dc-f230-4df5-d6da-993b8d4712e6"
   },
   "outputs": [
    {
     "data": {
      "text/html": [
       "<div>\n",
       "<style scoped>\n",
       "    .dataframe tbody tr th:only-of-type {\n",
       "        vertical-align: middle;\n",
       "    }\n",
       "\n",
       "    .dataframe tbody tr th {\n",
       "        vertical-align: top;\n",
       "    }\n",
       "\n",
       "    .dataframe thead th {\n",
       "        text-align: right;\n",
       "    }\n",
       "</style>\n",
       "<table border=\"1\" class=\"dataframe\">\n",
       "  <thead>\n",
       "    <tr style=\"text-align: right;\">\n",
       "      <th></th>\n",
       "      <th>Year</th>\n",
       "      <th>Month</th>\n",
       "      <th>Week</th>\n",
       "      <th>Day</th>\n",
       "      <th>Dayofweek</th>\n",
       "      <th>Dayofyear</th>\n",
       "      <th>Is_month_end</th>\n",
       "      <th>Is_month_start</th>\n",
       "      <th>Is_quarter_end</th>\n",
       "      <th>Is_quarter_start</th>\n",
       "      <th>Is_year_end</th>\n",
       "      <th>Is_year_start</th>\n",
       "    </tr>\n",
       "    <tr>\n",
       "      <th>Date</th>\n",
       "      <th></th>\n",
       "      <th></th>\n",
       "      <th></th>\n",
       "      <th></th>\n",
       "      <th></th>\n",
       "      <th></th>\n",
       "      <th></th>\n",
       "      <th></th>\n",
       "      <th></th>\n",
       "      <th></th>\n",
       "      <th></th>\n",
       "      <th></th>\n",
       "    </tr>\n",
       "  </thead>\n",
       "  <tbody>\n",
       "    <tr>\n",
       "      <th>2002-02-08</th>\n",
       "      <td>2002</td>\n",
       "      <td>2</td>\n",
       "      <td>6</td>\n",
       "      <td>8</td>\n",
       "      <td>4</td>\n",
       "      <td>39</td>\n",
       "      <td>False</td>\n",
       "      <td>False</td>\n",
       "      <td>False</td>\n",
       "      <td>False</td>\n",
       "      <td>False</td>\n",
       "      <td>False</td>\n",
       "    </tr>\n",
       "    <tr>\n",
       "      <th>2002-02-15</th>\n",
       "      <td>2002</td>\n",
       "      <td>2</td>\n",
       "      <td>7</td>\n",
       "      <td>15</td>\n",
       "      <td>4</td>\n",
       "      <td>46</td>\n",
       "      <td>False</td>\n",
       "      <td>False</td>\n",
       "      <td>False</td>\n",
       "      <td>False</td>\n",
       "      <td>False</td>\n",
       "      <td>False</td>\n",
       "    </tr>\n",
       "    <tr>\n",
       "      <th>2002-02-18</th>\n",
       "      <td>2002</td>\n",
       "      <td>2</td>\n",
       "      <td>8</td>\n",
       "      <td>18</td>\n",
       "      <td>0</td>\n",
       "      <td>49</td>\n",
       "      <td>False</td>\n",
       "      <td>False</td>\n",
       "      <td>False</td>\n",
       "      <td>False</td>\n",
       "      <td>False</td>\n",
       "      <td>False</td>\n",
       "    </tr>\n",
       "    <tr>\n",
       "      <th>2002-02-19</th>\n",
       "      <td>2002</td>\n",
       "      <td>2</td>\n",
       "      <td>8</td>\n",
       "      <td>19</td>\n",
       "      <td>1</td>\n",
       "      <td>50</td>\n",
       "      <td>False</td>\n",
       "      <td>False</td>\n",
       "      <td>False</td>\n",
       "      <td>False</td>\n",
       "      <td>False</td>\n",
       "      <td>False</td>\n",
       "    </tr>\n",
       "    <tr>\n",
       "      <th>2002-02-20</th>\n",
       "      <td>2002</td>\n",
       "      <td>2</td>\n",
       "      <td>8</td>\n",
       "      <td>20</td>\n",
       "      <td>2</td>\n",
       "      <td>51</td>\n",
       "      <td>False</td>\n",
       "      <td>False</td>\n",
       "      <td>False</td>\n",
       "      <td>False</td>\n",
       "      <td>False</td>\n",
       "      <td>False</td>\n",
       "    </tr>\n",
       "  </tbody>\n",
       "</table>\n",
       "</div>"
      ],
      "text/plain": [
       "            Year  Month  Week  Day  Dayofweek  Dayofyear  Is_month_end  \\\n",
       "Date                                                                     \n",
       "2002-02-08  2002      2     6    8          4         39         False   \n",
       "2002-02-15  2002      2     7   15          4         46         False   \n",
       "2002-02-18  2002      2     8   18          0         49         False   \n",
       "2002-02-19  2002      2     8   19          1         50         False   \n",
       "2002-02-20  2002      2     8   20          2         51         False   \n",
       "\n",
       "            Is_month_start  Is_quarter_end  Is_quarter_start  Is_year_end  \\\n",
       "Date                                                                        \n",
       "2002-02-08           False           False             False        False   \n",
       "2002-02-15           False           False             False        False   \n",
       "2002-02-18           False           False             False        False   \n",
       "2002-02-19           False           False             False        False   \n",
       "2002-02-20           False           False             False        False   \n",
       "\n",
       "            Is_year_start  \n",
       "Date                       \n",
       "2002-02-08          False  \n",
       "2002-02-15          False  \n",
       "2002-02-18          False  \n",
       "2002-02-19          False  \n",
       "2002-02-20          False  "
      ]
     },
     "execution_count": 13,
     "metadata": {},
     "output_type": "execute_result"
    }
   ],
   "source": [
    "ratio = 0.2\n",
    "label = data['Close']\n",
    "features = data.drop('Close', axis=1)\n",
    "X_train, X_test, y_train, y_test = train_test_split(features, label, test_size=ratio, shuffle=False)\n",
    "X_train.head()"
   ]
  },
  {
   "cell_type": "code",
   "execution_count": 14,
   "metadata": {
    "colab": {
     "base_uri": "https://localhost:8080/",
     "height": 206
    },
    "id": "zNYKUglykpTi",
    "outputId": "3c5ccbe2-ea8b-4003-f316-2b72c9f751de"
   },
   "outputs": [
    {
     "data": {
      "text/html": [
       "<div>\n",
       "<style scoped>\n",
       "    .dataframe tbody tr th:only-of-type {\n",
       "        vertical-align: middle;\n",
       "    }\n",
       "\n",
       "    .dataframe tbody tr th {\n",
       "        vertical-align: top;\n",
       "    }\n",
       "\n",
       "    .dataframe thead th {\n",
       "        text-align: right;\n",
       "    }\n",
       "</style>\n",
       "<table border=\"1\" class=\"dataframe\">\n",
       "  <thead>\n",
       "    <tr style=\"text-align: right;\">\n",
       "      <th></th>\n",
       "      <th>Date</th>\n",
       "    </tr>\n",
       "  </thead>\n",
       "  <tbody>\n",
       "    <tr>\n",
       "      <th>0</th>\n",
       "      <td>2022-05-26</td>\n",
       "    </tr>\n",
       "    <tr>\n",
       "      <th>1</th>\n",
       "      <td>2022-05-25</td>\n",
       "    </tr>\n",
       "    <tr>\n",
       "      <th>2</th>\n",
       "      <td>2022-05-24</td>\n",
       "    </tr>\n",
       "    <tr>\n",
       "      <th>3</th>\n",
       "      <td>2022-05-23</td>\n",
       "    </tr>\n",
       "    <tr>\n",
       "      <th>4</th>\n",
       "      <td>2022-05-20</td>\n",
       "    </tr>\n",
       "  </tbody>\n",
       "</table>\n",
       "</div>"
      ],
      "text/plain": [
       "         Date\n",
       "0  2022-05-26\n",
       "1  2022-05-25\n",
       "2  2022-05-24\n",
       "3  2022-05-23\n",
       "4  2022-05-20"
      ]
     },
     "execution_count": 14,
     "metadata": {},
     "output_type": "execute_result"
    }
   ],
   "source": [
    "X_future_common = X_future.copy(deep=True)\n",
    "X_future_common.head()"
   ]
  },
  {
   "cell_type": "code",
   "execution_count": 15,
   "metadata": {
    "colab": {
     "base_uri": "https://localhost:8080/",
     "height": 238
    },
    "id": "bD8kxPdYferX",
    "outputId": "99f7ff32-94ca-41e4-e184-dbd68cb92d67"
   },
   "outputs": [
    {
     "data": {
      "text/html": [
       "<div>\n",
       "<style scoped>\n",
       "    .dataframe tbody tr th:only-of-type {\n",
       "        vertical-align: middle;\n",
       "    }\n",
       "\n",
       "    .dataframe tbody tr th {\n",
       "        vertical-align: top;\n",
       "    }\n",
       "\n",
       "    .dataframe thead th {\n",
       "        text-align: right;\n",
       "    }\n",
       "</style>\n",
       "<table border=\"1\" class=\"dataframe\">\n",
       "  <thead>\n",
       "    <tr style=\"text-align: right;\">\n",
       "      <th></th>\n",
       "      <th>Year</th>\n",
       "      <th>Month</th>\n",
       "      <th>Week</th>\n",
       "      <th>Day</th>\n",
       "      <th>Dayofweek</th>\n",
       "      <th>Dayofyear</th>\n",
       "      <th>Is_month_end</th>\n",
       "      <th>Is_month_start</th>\n",
       "      <th>Is_quarter_end</th>\n",
       "      <th>Is_quarter_start</th>\n",
       "      <th>Is_year_end</th>\n",
       "      <th>Is_year_start</th>\n",
       "    </tr>\n",
       "    <tr>\n",
       "      <th>Date</th>\n",
       "      <th></th>\n",
       "      <th></th>\n",
       "      <th></th>\n",
       "      <th></th>\n",
       "      <th></th>\n",
       "      <th></th>\n",
       "      <th></th>\n",
       "      <th></th>\n",
       "      <th></th>\n",
       "      <th></th>\n",
       "      <th></th>\n",
       "      <th></th>\n",
       "    </tr>\n",
       "  </thead>\n",
       "  <tbody>\n",
       "    <tr>\n",
       "      <th>2022-05-26</th>\n",
       "      <td>2022</td>\n",
       "      <td>5</td>\n",
       "      <td>21</td>\n",
       "      <td>26</td>\n",
       "      <td>3</td>\n",
       "      <td>146</td>\n",
       "      <td>False</td>\n",
       "      <td>False</td>\n",
       "      <td>False</td>\n",
       "      <td>False</td>\n",
       "      <td>False</td>\n",
       "      <td>False</td>\n",
       "    </tr>\n",
       "    <tr>\n",
       "      <th>2022-05-25</th>\n",
       "      <td>2022</td>\n",
       "      <td>5</td>\n",
       "      <td>21</td>\n",
       "      <td>25</td>\n",
       "      <td>2</td>\n",
       "      <td>145</td>\n",
       "      <td>False</td>\n",
       "      <td>False</td>\n",
       "      <td>False</td>\n",
       "      <td>False</td>\n",
       "      <td>False</td>\n",
       "      <td>False</td>\n",
       "    </tr>\n",
       "    <tr>\n",
       "      <th>2022-05-24</th>\n",
       "      <td>2022</td>\n",
       "      <td>5</td>\n",
       "      <td>21</td>\n",
       "      <td>24</td>\n",
       "      <td>1</td>\n",
       "      <td>144</td>\n",
       "      <td>False</td>\n",
       "      <td>False</td>\n",
       "      <td>False</td>\n",
       "      <td>False</td>\n",
       "      <td>False</td>\n",
       "      <td>False</td>\n",
       "    </tr>\n",
       "    <tr>\n",
       "      <th>2022-05-23</th>\n",
       "      <td>2022</td>\n",
       "      <td>5</td>\n",
       "      <td>21</td>\n",
       "      <td>23</td>\n",
       "      <td>0</td>\n",
       "      <td>143</td>\n",
       "      <td>False</td>\n",
       "      <td>False</td>\n",
       "      <td>False</td>\n",
       "      <td>False</td>\n",
       "      <td>False</td>\n",
       "      <td>False</td>\n",
       "    </tr>\n",
       "    <tr>\n",
       "      <th>2022-05-20</th>\n",
       "      <td>2022</td>\n",
       "      <td>5</td>\n",
       "      <td>20</td>\n",
       "      <td>20</td>\n",
       "      <td>4</td>\n",
       "      <td>140</td>\n",
       "      <td>False</td>\n",
       "      <td>False</td>\n",
       "      <td>False</td>\n",
       "      <td>False</td>\n",
       "      <td>False</td>\n",
       "      <td>False</td>\n",
       "    </tr>\n",
       "  </tbody>\n",
       "</table>\n",
       "</div>"
      ],
      "text/plain": [
       "            Year  Month  Week  Day  Dayofweek  Dayofyear  Is_month_end  \\\n",
       "Date                                                                     \n",
       "2022-05-26  2022      5    21   26          3        146         False   \n",
       "2022-05-25  2022      5    21   25          2        145         False   \n",
       "2022-05-24  2022      5    21   24          1        144         False   \n",
       "2022-05-23  2022      5    21   23          0        143         False   \n",
       "2022-05-20  2022      5    20   20          4        140         False   \n",
       "\n",
       "            Is_month_start  Is_quarter_end  Is_quarter_start  Is_year_end  \\\n",
       "Date                                                                        \n",
       "2022-05-26           False           False             False        False   \n",
       "2022-05-25           False           False             False        False   \n",
       "2022-05-24           False           False             False        False   \n",
       "2022-05-23           False           False             False        False   \n",
       "2022-05-20           False           False             False        False   \n",
       "\n",
       "            Is_year_start  \n",
       "Date                       \n",
       "2022-05-26          False  \n",
       "2022-05-25          False  \n",
       "2022-05-24          False  \n",
       "2022-05-23          False  \n",
       "2022-05-20          False  "
      ]
     },
     "execution_count": 15,
     "metadata": {},
     "output_type": "execute_result"
    }
   ],
   "source": [
    "index = pd.to_datetime(X_future_common['Date'])    #format='%m/%d/%Y'\n",
    "add_datepart(X_future_common, 'Date')\n",
    "X_future_common.index = index\n",
    "X_future_common.drop('Elapsed', axis=1, inplace=True)\n",
    "X_future_common.head()"
   ]
  },
  {
   "cell_type": "markdown",
   "metadata": {},
   "source": [
    "# 3)Train Data on Machine Learning Models"
   ]
  },
  {
   "cell_type": "markdown",
   "metadata": {
    "id": "12eWYopUrXyF"
   },
   "source": [
    "## 3.1)Linear Regression"
   ]
  },
  {
   "cell_type": "code",
   "execution_count": 16,
   "metadata": {
    "colab": {
     "base_uri": "https://localhost:8080/"
    },
    "id": "3LC7wKsazRHl",
    "outputId": "9c45b1e3-fa10-48ec-fd83-015792365b62"
   },
   "outputs": [
    {
     "data": {
      "text/plain": [
       "LinearRegression()"
      ]
     },
     "execution_count": 16,
     "metadata": {},
     "output_type": "execute_result"
    }
   ],
   "source": [
    "#implement linear regression\n",
    "model = LinearRegression()\n",
    "model.fit(X_train,y_train)"
   ]
  },
  {
   "cell_type": "code",
   "execution_count": 17,
   "metadata": {
    "colab": {
     "base_uri": "https://localhost:8080/"
    },
    "id": "0C4mN9cI2uAC",
    "outputId": "6ed96764-9032-4406-d935-83dc23f6d5a0"
   },
   "outputs": [
    {
     "name": "stdout",
     "output_type": "stream",
     "text": [
      "R-Square on test set:  -4.809720114072207\n",
      "R-Square on train set:  0.009144013038139609\n",
      "MAE on test set:  267.2046971430177\n",
      "MAE on train set:  203.1816199436293\n",
      "RMSE on test set:  290.30710754029343\n",
      "RMSE on train set:  259.92371935206336\n"
     ]
    }
   ],
   "source": [
    "# make predictions\n",
    "preds_train = model.predict(X_train)\n",
    "preds = model.predict(X_test)\n",
    "\n",
    "# R-square\n",
    "r2_linear_test = r2_score(y_test, preds)\n",
    "print('R-Square on test set: ', r2_linear_test)\n",
    "\n",
    "r2_linear_train = r2_score(y_train, preds_train)\n",
    "print('R-Square on train set: ', r2_linear_train)\n",
    "\n",
    "# MAE\n",
    "mae_linear_test = mean_absolute_error(y_test, preds)\n",
    "print('MAE on test set: ', mae_linear_test)\n",
    "\n",
    "mae_linear_train = mean_absolute_error(y_train, preds_train)\n",
    "print('MAE on train set: ', mae_linear_train)\n",
    "\n",
    "# RMSE\n",
    "rms_linear_test = mean_squared_error(y_test, preds, squared=False)\n",
    "print('RMSE on test set: ', rms_linear_test)\n",
    "\n",
    "rms_linear_train = mean_squared_error(y_train, preds_train, squared=False)\n",
    "print('RMSE on train set: ', rms_linear_train)"
   ]
  },
  {
   "cell_type": "code",
   "execution_count": 18,
   "metadata": {
    "id": "HHRnASE_RkJ0"
   },
   "outputs": [],
   "source": [
    "y_train_pred_lr = pd.DataFrame(columns=['Predictions'])\n",
    "y_train_pred_lr['Predictions'] = preds_train\n",
    "y_train_pred_lr.index = y_train.index\n",
    "\n",
    "y_test_pred_lr = pd.DataFrame(columns=['Predictions'])\n",
    "y_test_pred_lr['Predictions'] = preds\n",
    "y_test_pred_lr.index = y_test.index"
   ]
  },
  {
   "cell_type": "code",
   "execution_count": 19,
   "metadata": {
    "colab": {
     "base_uri": "https://localhost:8080/",
     "height": 518
    },
    "id": "37xICDMZ3F9M",
    "outputId": "fcbbd25a-1a6c-4797-d636-401a791670bd"
   },
   "outputs": [
    {
     "data": {
      "image/png": "[encoded data removed]",
      "text/plain": [
       "<Figure size 1152x576 with 1 Axes>"
      ]
     },
     "metadata": {
      "needs_background": "light"
     },
     "output_type": "display_data"
    }
   ],
   "source": [
    "plt.figure(figsize=(16,8))\n",
    "plt.plot(y_train, label='Actual Price for training set')\n",
    "plt.plot(y_test, label='Actual Price for testing set')\n",
    "plt.plot(y_train_pred_lr, label='Predicted Price for training set')\n",
    "plt.plot(y_test_pred_lr, label='Predicted Price for testing set')\n",
    "plt.xlabel('Year', fontsize=15)\n",
    "plt.ylabel('Stock Price', fontsize=15)\n",
    "plt.title('Fitting curve between predicted and real prices using Linear Regression')\n",
    "plt.legend()\n",
    "\n",
    "plt.show()"
   ]
  },
  {
   "cell_type": "code",
   "execution_count": 20,
   "metadata": {
    "colab": {
     "base_uri": "https://localhost:8080/"
    },
    "id": "fXEUZw7bl4KX",
    "outputId": "92f4b832-09ce-420d-91a5-73a2a8920a43"
   },
   "outputs": [
    {
     "data": {
      "text/plain": [
       "array([541.23217843, 540.98076033, 540.72934224, 540.47792414,\n",
       "       543.56030712, 543.30888902, 543.05747092, 542.80605282,\n",
       "       542.55463472, 545.6370177 ])"
      ]
     },
     "execution_count": 20,
     "metadata": {},
     "output_type": "execute_result"
    }
   ],
   "source": [
    "# predicting future price using Linear Regression\n",
    "future_preds_lr = model.predict(X_future_common)\n",
    "future_preds_lr"
   ]
  },
  {
   "cell_type": "markdown",
   "metadata": {
    "id": "AIQDwgdbpJxD"
   },
   "source": [
    "## 3.2) k-Nearest Neighbors(KNN)"
   ]
  },
  {
   "cell_type": "code",
   "execution_count": 21,
   "metadata": {
    "id": "pe5fJ_UjRanU"
   },
   "outputs": [],
   "source": [
    "# scaling data\n",
    "scaler = MinMaxScaler(feature_range=(0, 1))\n",
    "X_train_scaled = scaler.fit_transform(X_train)\n",
    "X_train = pd.DataFrame(X_train_scaled)\n",
    "X_test_scaled = scaler.fit_transform(X_test)\n",
    "X_test = pd.DataFrame(X_test_scaled)\n",
    "X_future_common_scaled = scaler.fit_transform(X_future_common)\n",
    "X_future_common = pd.DataFrame(X_future_common_scaled)"
   ]
  },
  {
   "cell_type": "code",
   "execution_count": 22,
   "metadata": {
    "colab": {
     "base_uri": "https://localhost:8080/"
    },
    "id": "Sh4aV2y0pSEK",
    "outputId": "fb64caaa-3d07-4987-835c-9c5f2a502a38"
   },
   "outputs": [
    {
     "name": "stdout",
     "output_type": "stream",
     "text": [
      "KNeighborsRegressor(n_neighbors=9)\n"
     ]
    }
   ],
   "source": [
    "# using gridsearch to find the best parameter\n",
    "params = {'n_neighbors':[2,3,4,5,6,7,8,9]}\n",
    "knn = neighbors.KNeighborsRegressor()\n",
    "clf = GridSearchCV(knn, params, cv=5)    #cross-validation\n",
    "\n",
    "# fit the model and make predictions\n",
    "search = clf.fit(X_train,y_train)\n",
    "\n",
    "model = search.best_estimator_ \n",
    "print(model)"
   ]
  },
  {
   "cell_type": "code",
   "execution_count": 23,
   "metadata": {
    "colab": {
     "base_uri": "https://localhost:8080/"
    },
    "id": "mxIn_BMgKDZR",
    "outputId": "287a661b-ecd8-4b4a-8b53-b18577bf45d4"
   },
   "outputs": [
    {
     "name": "stdout",
     "output_type": "stream",
     "text": [
      "R-Square on test set:  -7.975386737186378\n",
      "R-Square on train set:  0.4919670249830832\n",
      "MAE on test set:  285.09376518665783\n",
      "MAE on train set:  132.5948366338001\n",
      "RMSE on test set:  360.8333321214191\n",
      "RMSE on train set:  186.11723631063134\n"
     ]
    }
   ],
   "source": [
    "preds = model.predict(X_test)\n",
    "preds_train = model.predict(X_train)\n",
    "\n",
    "# R-square\n",
    "r2_knn_test = r2_score(y_test, preds)\n",
    "print('R-Square on test set: ', r2_knn_test)\n",
    "\n",
    "r2_knn_train = r2_score(y_train, preds_train)\n",
    "print('R-Square on train set: ', r2_knn_train)\n",
    "\n",
    "# MAE\n",
    "mae_knn_test = mean_absolute_error(y_test, preds)\n",
    "print('MAE on test set: ', mae_knn_test)\n",
    "\n",
    "mae_knn_train = mean_absolute_error(y_train, preds_train)\n",
    "print('MAE on train set: ', mae_knn_train)\n",
    "\n",
    "# RMSE\n",
    "rms_knn_test = mean_squared_error(y_test, preds, squared=False)\n",
    "print('RMSE on test set: ', rms_knn_test)\n",
    "\n",
    "rms_knn_train = mean_squared_error(y_train, preds_train, squared=False)\n",
    "print('RMSE on train set: ', rms_knn_train)"
   ]
  },
  {
   "cell_type": "code",
   "execution_count": 24,
   "metadata": {
    "id": "QWND1iHqqVuW"
   },
   "outputs": [],
   "source": [
    "y_test_pred_knn = pd.DataFrame(columns=['Predictions'])\n",
    "y_test_pred_knn['Predictions'] = preds\n",
    "y_test_pred_knn.index = y_test.index\n",
    "\n",
    "y_train_pred_knn = pd.DataFrame(columns=['Predictions'])\n",
    "y_train_pred_knn['Predictions'] = preds_train\n",
    "y_train_pred_knn.index = y_train.index"
   ]
  },
  {
   "cell_type": "code",
   "execution_count": 25,
   "metadata": {
    "colab": {
     "base_uri": "https://localhost:8080/",
     "height": 518
    },
    "id": "zO-ozDT-qaa1",
    "outputId": "ce5633b3-b807-401f-8716-62c7ff4220dd"
   },
   "outputs": [
    {
     "data": {
      "image/png": "[encoded data removed]",
      "text/plain": [
       "<Figure size 1152x576 with 1 Axes>"
      ]
     },
     "metadata": {
      "needs_background": "light"
     },
     "output_type": "display_data"
    }
   ],
   "source": [
    "plt.figure(figsize=(16,8))\n",
    "plt.plot(y_train, label='Actual Price for training set')\n",
    "plt.plot(y_test, label='Actual Price for testing set')\n",
    "plt.plot(y_train_pred_knn, label='Predicted Price for training set')\n",
    "plt.plot(y_test_pred_knn, label='Predicted Price for testing set')\n",
    "plt.xlabel('Year', fontsize=15)\n",
    "plt.ylabel('Stock Price', fontsize=15)\n",
    "plt.title('Fitting curve between predicted and real prices using KNN')\n",
    "plt.legend()\n",
    "\n",
    "plt.show()"
   ]
  },
  {
   "cell_type": "code",
   "execution_count": 26,
   "metadata": {
    "colab": {
     "base_uri": "https://localhost:8080/"
    },
    "id": "2vm02fLSWKjU",
    "outputId": "7f5fd10f-0631-47db-9cc2-75ebeda23187"
   },
   "outputs": [
    {
     "data": {
      "text/plain": [
       "array([283.        , 251.29444444, 247.82222222, 228.18333333,\n",
       "       289.39444444, 254.05555556, 217.68888889, 187.69444444,\n",
       "       269.43888889, 401.83333333])"
      ]
     },
     "execution_count": 26,
     "metadata": {},
     "output_type": "execute_result"
    }
   ],
   "source": [
    "# predicting future price using K-Nearest Neighbour\n",
    "future_preds_knn = model.predict(X_future_common)\n",
    "future_preds_knn"
   ]
  },
  {
   "cell_type": "markdown",
   "metadata": {
    "id": "c_JO2aLq8gUp"
   },
   "source": [
    "## 3.3) SVM (Support Vector Machine)"
   ]
  },
  {
   "cell_type": "code",
   "execution_count": 27,
   "metadata": {
    "colab": {
     "base_uri": "https://localhost:8080/"
    },
    "id": "wTXIQW3a8ZII",
    "outputId": "e224c6ac-5098-430f-96ec-4d3a72441bad"
   },
   "outputs": [
    {
     "name": "stdout",
     "output_type": "stream",
     "text": [
      "SVR(C=0.001, gamma=0.001)\n"
     ]
    }
   ],
   "source": [
    "params = {'C': [0.001, 0.01, 0.1], 'kernel': ['linear', 'rbf'], 'gamma': [0.001, 0.01, 0.1]}\n",
    "svm = SVR()\n",
    "clf = GridSearchCV(svm, params, cv=5)\n",
    "search = clf.fit(X_train, y_train)\n",
    "model = search.best_estimator_\n",
    "print(model)"
   ]
  },
  {
   "cell_type": "code",
   "execution_count": 28,
   "metadata": {
    "colab": {
     "base_uri": "https://localhost:8080/"
    },
    "id": "cWAplB1DJ_Xw",
    "outputId": "cd4e8d5a-420b-4590-ce26-dda5ecce9bb8"
   },
   "outputs": [
    {
     "name": "stdout",
     "output_type": "stream",
     "text": [
      "R-Square on test set:  -2.611942071447361\n",
      "R-Square on train set:  -0.045405822308152155\n",
      "MAE on test set:  205.3055319931087\n",
      "MAE on train set:  195.3395568325797\n",
      "RMSE on test set:  228.90245559094657\n",
      "RMSE on train set:  266.98268798725536\n"
     ]
    }
   ],
   "source": [
    "preds = model.predict(X_test)\n",
    "preds_train = model.predict(X_train)\n",
    "\n",
    "# R-square\n",
    "r2_svm_test = r2_score(y_test, preds)\n",
    "print('R-Square on test set: ', r2_svm_test)\n",
    "\n",
    "r2_svm_train = r2_score(y_train, preds_train)\n",
    "print('R-Square on train set: ', r2_svm_train)\n",
    "\n",
    "# MAE\n",
    "mae_svm_test = mean_absolute_error(y_test, preds)\n",
    "print('MAE on test set: ', mae_svm_test)\n",
    "\n",
    "mae_svm_train = mean_absolute_error(y_train, preds_train)\n",
    "print('MAE on train set: ', mae_svm_train)\n",
    "\n",
    "# RMSE\n",
    "rms_svm_test = mean_squared_error(y_test, preds, squared=False)\n",
    "print('RMSE on test set: ', rms_svm_test)\n",
    "\n",
    "rms_svm_train = mean_squared_error(y_train, preds_train, squared=False)\n",
    "print('RMSE on train set: ', rms_svm_train)"
   ]
  },
  {
   "cell_type": "code",
   "execution_count": 29,
   "metadata": {
    "id": "Vz94ihMPJrPe"
   },
   "outputs": [],
   "source": [
    "y_test_pred_svm = pd.DataFrame(columns=['Predictions'])\n",
    "y_test_pred_svm['Predictions'] = preds\n",
    "y_test_pred_svm.index = y_test.index\n",
    "\n",
    "y_train_pred_svm = pd.DataFrame(columns=['Predictions'])\n",
    "y_train_pred_svm['Predictions'] = preds_train\n",
    "y_train_pred_svm.index = y_train.index"
   ]
  },
  {
   "cell_type": "code",
   "execution_count": 30,
   "metadata": {
    "colab": {
     "base_uri": "https://localhost:8080/",
     "height": 518
    },
    "id": "dbZVqL0-Jxso",
    "outputId": "e3b1bcd9-84cb-4082-a853-a37e51fb16f5"
   },
   "outputs": [
    {
     "data": {
      "image/png": "[encoded data removed]",
      "text/plain": [
       "<Figure size 1152x576 with 1 Axes>"
      ]
     },
     "metadata": {
      "needs_background": "light"
     },
     "output_type": "display_data"
    }
   ],
   "source": [
    "plt.figure(figsize=(16,8))\n",
    "plt.plot(y_train, label='Actual Price for training set')\n",
    "plt.plot(y_test, label='Actual Price for testing set')\n",
    "plt.plot(y_train_pred_svm, label='Predicted Price for training set')\n",
    "plt.plot(y_test_pred_svm, label='Predicted Price for testing set')\n",
    "plt.xlabel('Year', fontsize=15)\n",
    "plt.ylabel('Stock Price', fontsize=15)\n",
    "plt.title('Fitting curve between predicted and real prices using SVM')\n",
    "plt.legend()\n",
    "\n",
    "plt.show()"
   ]
  },
  {
   "cell_type": "code",
   "execution_count": 31,
   "metadata": {
    "colab": {
     "base_uri": "https://localhost:8080/"
    },
    "id": "pEblE3bkUouj",
    "outputId": "c197fef3-c5b4-4800-8db5-25edb10c87f6"
   },
   "outputs": [
    {
     "data": {
      "text/plain": [
       "array([435.99990972, 435.99991503, 435.99992034, 435.99992564,\n",
       "       436.00000447, 436.00000981, 436.00001514, 436.00002046,\n",
       "       436.00002575, 436.00010442])"
      ]
     },
     "execution_count": 31,
     "metadata": {},
     "output_type": "execute_result"
    }
   ],
   "source": [
    "# predicting future price using Support Vector Machine\n",
    "future_preds_svm = model.predict(X_future_common)\n",
    "future_preds_svm"
   ]
  },
  {
   "cell_type": "markdown",
   "metadata": {
    "id": "mleQvikhNs4T"
   },
   "source": [
    "## 3.4) Random Forest"
   ]
  },
  {
   "cell_type": "code",
   "execution_count": 32,
   "metadata": {
    "colab": {
     "base_uri": "https://localhost:8080/"
    },
    "id": "EbVdFuT1NfZE",
    "outputId": "dcd287dc-31f7-43e2-8bbf-a371671e522d"
   },
   "outputs": [
    {
     "name": "stdout",
     "output_type": "stream",
     "text": [
      "RandomForestRegressor(max_features='sqrt', random_state=42)\n"
     ]
    }
   ],
   "source": [
    "params = {'n_estimators': [100, 200, 300], 'max_features': ['auto', 'sqrt']}\n",
    "random_forest = RandomForestRegressor(random_state=42)    #Controls both the randomness of the bootstrapping of the samples used when building trees\n",
    "clf = GridSearchCV(random_forest, params, n_jobs=5, cv=5)\n",
    "search = clf.fit(X_train, y_train)\n",
    "model = search.best_estimator_\n",
    "print(model)"
   ]
  },
  {
   "cell_type": "code",
   "execution_count": 33,
   "metadata": {
    "colab": {
     "base_uri": "https://localhost:8080/"
    },
    "id": "Y1GckrvGPXWH",
    "outputId": "023934f6-afb6-447c-9ef6-35f394c735b2"
   },
   "outputs": [
    {
     "name": "stdout",
     "output_type": "stream",
     "text": [
      "R-Square on test set:  -11.775526381362972\n",
      "R-Square on train set:  0.9754340724525925\n",
      "MAE on test set:  335.2424045725647\n",
      "MAE on train set:  28.937902187422303\n",
      "RMSE on test set:  430.49634147272917\n",
      "RMSE on train set:  40.92674704725879\n"
     ]
    }
   ],
   "source": [
    "preds = model.predict(X_test)\n",
    "preds_train = model.predict(X_train)\n",
    "\n",
    "# R-square\n",
    "r2_rf_test = r2_score(y_test, preds)\n",
    "print('R-Square on test set: ', r2_rf_test)\n",
    "\n",
    "r2_rf_train = r2_score(y_train, preds_train)\n",
    "print('R-Square on train set: ', r2_rf_train)\n",
    "\n",
    "# MAE\n",
    "mae_rf_test = mean_absolute_error(y_test, preds)\n",
    "print('MAE on test set: ', mae_rf_test)\n",
    "\n",
    "mae_rf_train = mean_absolute_error(y_train, preds_train)\n",
    "print('MAE on train set: ', mae_rf_train)\n",
    "\n",
    "# RMSE\n",
    "rms_rf_test = mean_squared_error(y_test, preds, squared=False)\n",
    "print('RMSE on test set: ', rms_rf_test)\n",
    "\n",
    "rms_rf_train = mean_squared_error(y_train, preds_train, squared=False)\n",
    "print('RMSE on train set: ', rms_rf_train)"
   ]
  },
  {
   "cell_type": "code",
   "execution_count": 34,
   "metadata": {
    "id": "dpyjlhGBPfGk"
   },
   "outputs": [],
   "source": [
    "y_test_pred_rf = pd.DataFrame(columns=['Predictions'])\n",
    "y_test_pred_rf['Predictions'] = preds\n",
    "y_test_pred_rf.index = y_test.index\n",
    "\n",
    "y_train_pred_rf = pd.DataFrame(columns=['Predictions'])\n",
    "y_train_pred_rf['Predictions'] = preds_train\n",
    "y_train_pred_rf.index = y_train.index"
   ]
  },
  {
   "cell_type": "code",
   "execution_count": 35,
   "metadata": {
    "colab": {
     "base_uri": "https://localhost:8080/",
     "height": 518
    },
    "id": "Insb0f4DPjhR",
    "outputId": "16ed8f65-8bb6-4c65-c98e-cebd6f4c8499"
   },
   "outputs": [
    {
     "data": {
      "image/png": "[encoded data removed]",
      "text/plain": [
       "<Figure size 1152x576 with 1 Axes>"
      ]
     },
     "metadata": {
      "needs_background": "light"
     },
     "output_type": "display_data"
    }
   ],
   "source": [
    "plt.figure(figsize=(16,8))\n",
    "plt.plot(y_train, label='Actual Price for training set')\n",
    "plt.plot(y_test, label='Actual Price for testing set')\n",
    "plt.plot(y_train_pred_rf, label='Predicted Price for training set')\n",
    "plt.plot(y_test_pred_rf, label='Predicted Price for testing set')\n",
    "plt.xlabel('Year', fontsize=15)\n",
    "plt.ylabel('Stock Price', fontsize=15)\n",
    "plt.title('Fitting curve between predicted and real prices using Random Forest')\n",
    "plt.legend()\n",
    "\n",
    "plt.show()"
   ]
  },
  {
   "cell_type": "code",
   "execution_count": 36,
   "metadata": {
    "colab": {
     "base_uri": "https://localhost:8080/"
    },
    "id": "swn7P4f2U-RZ",
    "outputId": "d124c4cc-7cde-4182-eaeb-8b08205bd2fc"
   },
   "outputs": [
    {
     "data": {
      "text/plain": [
       "array([253.4635, 213.725 , 225.281 , 227.846 , 196.388 , 168.5015,\n",
       "       153.1005, 169.296 , 158.289 , 222.8715])"
      ]
     },
     "execution_count": 36,
     "metadata": {},
     "output_type": "execute_result"
    }
   ],
   "source": [
    "# predicting future price using Random Forest\n",
    "future_preds_rf = model.predict(X_future_common)\n",
    "future_preds_rf"
   ]
  },
  {
   "cell_type": "markdown",
   "metadata": {
    "id": "1w3PbgDkrfBX"
   },
   "source": [
    "## 3.5) LSTM(Long - Short Term Memory)"
   ]
  },
  {
   "cell_type": "code",
   "execution_count": 37,
   "metadata": {
    "colab": {
     "base_uri": "https://localhost:8080/",
     "height": 238
    },
    "id": "t-v9k9MB8eSU",
    "outputId": "4b5cdfae-4968-4eb2-84d2-a9b5e9f028ab"
   },
   "outputs": [
    {
     "data": {
      "text/html": [
       "<div>\n",
       "<style scoped>\n",
       "    .dataframe tbody tr th:only-of-type {\n",
       "        vertical-align: middle;\n",
       "    }\n",
       "\n",
       "    .dataframe tbody tr th {\n",
       "        vertical-align: top;\n",
       "    }\n",
       "\n",
       "    .dataframe thead th {\n",
       "        text-align: right;\n",
       "    }\n",
       "</style>\n",
       "<table border=\"1\" class=\"dataframe\">\n",
       "  <thead>\n",
       "    <tr style=\"text-align: right;\">\n",
       "      <th></th>\n",
       "      <th>Close</th>\n",
       "    </tr>\n",
       "    <tr>\n",
       "      <th>Date</th>\n",
       "      <th></th>\n",
       "    </tr>\n",
       "  </thead>\n",
       "  <tbody>\n",
       "    <tr>\n",
       "      <th>2022-05-20</th>\n",
       "      <td>417.95</td>\n",
       "    </tr>\n",
       "    <tr>\n",
       "      <th>2022-05-23</th>\n",
       "      <td>421.60</td>\n",
       "    </tr>\n",
       "    <tr>\n",
       "      <th>2022-05-24</th>\n",
       "      <td>425.60</td>\n",
       "    </tr>\n",
       "    <tr>\n",
       "      <th>2022-05-25</th>\n",
       "      <td>417.05</td>\n",
       "    </tr>\n",
       "    <tr>\n",
       "      <th>2022-05-26</th>\n",
       "      <td>420.70</td>\n",
       "    </tr>\n",
       "  </tbody>\n",
       "</table>\n",
       "</div>"
      ],
      "text/plain": [
       "             Close\n",
       "Date              \n",
       "2022-05-20  417.95\n",
       "2022-05-23  421.60\n",
       "2022-05-24  425.60\n",
       "2022-05-25  417.05\n",
       "2022-05-26  420.70"
      ]
     },
     "execution_count": 37,
     "metadata": {},
     "output_type": "execute_result"
    }
   ],
   "source": [
    "data = pd.DataFrame(columns=['Date', 'Close'])\n",
    "\n",
    "data['Date'] = sorted_df['Date'].values\n",
    "data['Close'] = sorted_df['Close'].values\n",
    "data.index = pd.to_datetime(data['Date'])\n",
    "data.drop('Date', axis=1, inplace=True)\n",
    "\n",
    "data.tail()"
   ]
  },
  {
   "cell_type": "code",
   "execution_count": 38,
   "metadata": {
    "colab": {
     "base_uri": "https://localhost:8080/"
    },
    "id": "zj5Iz5Rz8Ew0",
    "outputId": "d3d56c73-f66d-463a-9a91-5ed66c3b3a4e"
   },
   "outputs": [
    {
     "data": {
      "text/plain": [
       "array([[135.1 ],\n",
       "       [138.95],\n",
       "       [137.9 ],\n",
       "       ...,\n",
       "       [425.6 ],\n",
       "       [417.05],\n",
       "       [420.7 ]])"
      ]
     },
     "execution_count": 38,
     "metadata": {},
     "output_type": "execute_result"
    }
   ],
   "source": [
    "dataset = data.values\n",
    "dataset"
   ]
  },
  {
   "cell_type": "code",
   "execution_count": 39,
   "metadata": {
    "id": "buxztrBW9QOK"
   },
   "outputs": [],
   "source": [
    "train_df, test_df = train_test_split(data, test_size=ratio, shuffle=False)\n",
    "train_size = train_df.shape[0]"
   ]
  },
  {
   "cell_type": "code",
   "execution_count": 40,
   "metadata": {
    "colab": {
     "base_uri": "https://localhost:8080/"
    },
    "id": "ahDtMG74FpZ7",
    "outputId": "e8fd5bf9-7f4e-4c4d-e0e9-70e36dd89dd3"
   },
   "outputs": [
    {
     "data": {
      "text/plain": [
       "array([[0.05367992],\n",
       "       [0.05664078],\n",
       "       [0.05583327],\n",
       "       ...,\n",
       "       [0.2770899 ],\n",
       "       [0.2705145 ],\n",
       "       [0.27332154]])"
      ]
     },
     "execution_count": 40,
     "metadata": {},
     "output_type": "execute_result"
    }
   ],
   "source": [
    "scaler = MinMaxScaler(feature_range=(0, 1))\n",
    "scaled_data = scaler.fit_transform(dataset)\n",
    "scaled_data"
   ]
  },
  {
   "cell_type": "code",
   "execution_count": 41,
   "metadata": {
    "colab": {
     "base_uri": "https://localhost:8080/"
    },
    "id": "hHUCN5dVF3Qd",
    "outputId": "bfaa4b01-d8e5-4b1e-b949-900008420bb2"
   },
   "outputs": [
    {
     "data": {
      "text/plain": [
       "(3963, 60, 1)"
      ]
     },
     "execution_count": 41,
     "metadata": {},
     "output_type": "execute_result"
    }
   ],
   "source": [
    "# converting dataset into X_train and y_train\n",
    "X_train, y_train = [], []\n",
    "sequence_len = 60\n",
    "for i in range(sequence_len, train_size):\n",
    "    X_train.append(scaled_data[i-sequence_len:i, 0])\n",
    "    y_train.append(scaled_data[i, 0])\n",
    "X_train, y_train = np.array(X_train), np.array(y_train)\n",
    "\n",
    "X_train = np.reshape(X_train, (X_train.shape[0], X_train.shape[1], 1))\n",
    "X_train.shape"
   ]
  },
  {
   "cell_type": "code",
   "execution_count": 42,
   "metadata": {
    "colab": {
     "base_uri": "https://localhost:8080/"
    },
    "id": "-L1kpGYUIJ_D",
    "outputId": "7c6ec0e0-0185-403c-b759-8779fbfa99a5"
   },
   "outputs": [
    {
     "name": "stdout",
     "output_type": "stream",
     "text": [
      "3566/3566 [==============================] - 81s 22ms/step - loss: 0.0013 - accuracy: 2.8043e-04 - val_loss: 1.1147e-04 - val_accuracy: 0.0000e+00\n",
      "32/32 [==============================] - 1s 14ms/step\n"
     ]
    }
   ],
   "source": [
    "# create and fit the LSTM network\n",
    "\n",
    "neurons = [50]\n",
    "minimum = 100000\n",
    "preds = []\n",
    "best_model = Sequential()\n",
    "for i, n in enumerate(neurons):\n",
    "  model = Sequential()\n",
    "  model.add(LSTM(units=n, return_sequences=True, input_shape=(X_train.shape[1],1)))\n",
    "  model.add(LSTM(units=n))\n",
    "  model.add(Dense(1))\n",
    "\n",
    "  model.compile(loss='mean_squared_error', optimizer='adam', metrics=['accuracy'])\n",
    "  model.fit(X_train, y_train, epochs=1, batch_size=1, validation_split=0.1)\n",
    "\n",
    "  inputs = data[len(data) - len(test_df) - sequence_len:].values\n",
    "  inputs = inputs.reshape(-1,1)\n",
    "  inputs  = scaler.transform(inputs)\n",
    "\n",
    "  # predicting closing price for test set, using past 60 values from the train data\n",
    "  X_test_i = []\n",
    "  for i in range(len(test_df)):\n",
    "      X_test_i.append(inputs[i:i+sequence_len, 0])\n",
    "  X_test_i = np.array(X_test_i)\n",
    "  X_test_i = np.reshape(X_test_i, (X_test_i.shape[0], X_test_i.shape[1], 1))\n",
    "\n",
    "  preds = model.predict(X_test_i)\n",
    "  preds = scaler.inverse_transform(preds)\n",
    "\n",
    "  rms = rms = mean_squared_error(test_df.values, preds, squared=False)\n",
    "  if rms < minimum:\n",
    "    minimum = rms\n",
    "    best_preds = preds \n",
    "    best_model = model\n",
    "\n",
    "rms_lstm_test = minimum\n",
    "preds = best_preds\n",
    "model = best_model"
   ]
  },
  {
   "cell_type": "code",
   "execution_count": 43,
   "metadata": {
    "colab": {
     "base_uri": "https://localhost:8080/"
    },
    "id": "cN2PMeRfik-B",
    "outputId": "22b3e4fe-379b-49c4-b494-09dcc8d33e06"
   },
   "outputs": [
    {
     "name": "stdout",
     "output_type": "stream",
     "text": [
      "Model: \"sequential_1\"\n",
      "_________________________________________________________________\n",
      " Layer (type)                Output Shape              Param #   \n",
      "=================================================================\n",
      " lstm (LSTM)                 (None, 60, 50)            10400     \n",
      "                                                                 \n",
      " lstm_1 (LSTM)               (None, 50)                20200     \n",
      "                                                                 \n",
      " dense (Dense)               (None, 1)                 51        \n",
      "                                                                 \n",
      "=================================================================\n",
      "Total params: 30,651\n",
      "Trainable params: 30,651\n",
      "Non-trainable params: 0\n",
      "_________________________________________________________________\n"
     ]
    }
   ],
   "source": [
    "model.summary()"
   ]
  },
  {
   "cell_type": "code",
   "execution_count": 44,
   "metadata": {
    "colab": {
     "base_uri": "https://localhost:8080/"
    },
    "id": "o7xj2D_4d1Ka",
    "outputId": "c99e5784-5105-4079-8b7c-156e2f0baf58"
   },
   "outputs": [
    {
     "name": "stdout",
     "output_type": "stream",
     "text": [
      "124/124 [==============================] - 2s 17ms/step\n",
      "RMSE on train set:  24.23778087868788\n"
     ]
    }
   ],
   "source": [
    "inputs_t = data.values\n",
    "inputs_t = inputs_t.reshape(-1,1)\n",
    "inputs_t  = scaler.transform(inputs_t)\n",
    "\n",
    "# predicting closing price for train set\n",
    "Xt = []\n",
    "for i in range(len(train_df)-sequence_len):\n",
    "    Xt.append(inputs_t[i:i+sequence_len, 0])\n",
    "Xt = np.array(Xt)\n",
    "Xt = np.reshape(Xt, (Xt.shape[0], Xt.shape[1], 1))\n",
    "\n",
    "preds_train = model.predict(Xt)\n",
    "preds_train = scaler.inverse_transform(preds_train)\n",
    "\n",
    "rms_lstm_train = np.sqrt(np.mean(np.power((train_df.values[sequence_len:] - preds_train),2)))\n",
    "print('RMSE on train set: ', rms_lstm_train)"
   ]
  },
  {
   "cell_type": "code",
   "execution_count": 45,
   "metadata": {
    "colab": {
     "base_uri": "https://localhost:8080/"
    },
    "id": "I3WASOUY8HXc",
    "outputId": "8bde7390-89e9-483b-864e-cc909285d97a"
   },
   "outputs": [
    {
     "name": "stdout",
     "output_type": "stream",
     "text": [
      "R-Square on test set:  0.988006775218535\n",
      "R-Square on train set:  0.9912624679326566\n",
      "MAE on test set:  10.319738347866899\n",
      "MAE on train set:  14.614927452716927\n",
      "RMSE on test set:  13.190098846987832\n",
      "RMSE on train set:  24.23778087868788\n"
     ]
    }
   ],
   "source": [
    "# R-square\n",
    "r2_lstm_test = r2_score(test_df.values, preds)\n",
    "print('R-Square on test set: ', r2_lstm_test)\n",
    "\n",
    "r2_lstm_train = r2_score(train_df.values[sequence_len:], preds_train)\n",
    "print('R-Square on train set: ', r2_lstm_train)\n",
    "\n",
    "# MAE\n",
    "mae_lstm_test = mean_absolute_error(test_df.values, preds)\n",
    "print('MAE on test set: ', mae_lstm_test)\n",
    "\n",
    "mae_lstm_train = mean_absolute_error(train_df.values[sequence_len:], preds_train)\n",
    "print('MAE on train set: ', mae_lstm_train)\n",
    "\n",
    "# RMSE\n",
    "rms_lstm_test = mean_squared_error(test_df.values, preds, squared=False)\n",
    "print('RMSE on test set: ', rms_lstm_test)\n",
    "\n",
    "rms_lstm_train = mean_squared_error(train_df.values[sequence_len:], preds_train, squared=False)\n",
    "print('RMSE on train set: ', rms_lstm_train)"
   ]
  },
  {
   "cell_type": "code",
   "execution_count": 46,
   "metadata": {
    "id": "UWdH66MDwWFy"
   },
   "outputs": [],
   "source": [
    "for i in range(sequence_len):\n",
    "  preds_train = np.concatenate([[dataset[i]], preds_train])"
   ]
  },
  {
   "cell_type": "code",
   "execution_count": 47,
   "metadata": {
    "id": "oywa8eXNg1MO"
   },
   "outputs": [
    {
     "name": "stdout",
     "output_type": "stream",
     "text": [
      "1/1 [==============================] - 0s 33ms/step\n",
      "1/1 [==============================] - 0s 33ms/step\n",
      "1/1 [==============================] - 0s 27ms/step\n",
      "1/1 [==============================] - 0s 32ms/step\n",
      "1/1 [==============================] - 0s 36ms/step\n",
      "1/1 [==============================] - 0s 30ms/step\n",
      "1/1 [==============================] - 0s 44ms/step\n",
      "1/1 [==============================] - 0s 33ms/step\n",
      "1/1 [==============================] - 0s 32ms/step\n",
      "1/1 [==============================] - 0s 35ms/step\n"
     ]
    }
   ],
   "source": [
    "# Predict price for n next days\n",
    "\n",
    "n = 10\n",
    "X_future_test = []\n",
    "for i in range(0, n):\n",
    "  X_future_test.append(inputs[-sequence_len:, 0])\n",
    "  X_future_test_arr = np.array(X_future_test)\n",
    "  X_future_test_arr = np.reshape(X_future_test_arr, (X_future_test_arr.shape[0], X_future_test_arr.shape[1], 1))\n",
    "  \n",
    "  nextday_closing_price = model.predict(X_future_test_arr)\n",
    "  inputs = np.append(inputs, nextday_closing_price, 0)\n",
    "\n",
    "nextday_closing_price = scaler.inverse_transform(nextday_closing_price)"
   ]
  },
  {
   "cell_type": "code",
   "execution_count": 48,
   "metadata": {
    "colab": {
     "base_uri": "https://localhost:8080/"
    },
    "id": "38q9Da0Ajg0Q",
    "outputId": "f2be1798-e1b4-4290-963a-81482fa11bbc"
   },
   "outputs": [
    {
     "data": {
      "text/plain": [
       "array([[427.92886],\n",
       "       [429.56915],\n",
       "       [433.21228],\n",
       "       [436.227  ],\n",
       "       [438.46057],\n",
       "       [441.03906],\n",
       "       [443.68976],\n",
       "       [446.4371 ],\n",
       "       [449.37253],\n",
       "       [452.4863 ]], dtype=float32)"
      ]
     },
     "execution_count": 48,
     "metadata": {},
     "output_type": "execute_result"
    }
   ],
   "source": [
    "nextday_closing_price"
   ]
  },
  {
   "cell_type": "code",
   "execution_count": 49,
   "metadata": {
    "id": "DlSErf4OYLW2"
   },
   "outputs": [],
   "source": [
    "future_df = X_future.copy(deep=True)\n",
    "index = pd.to_datetime(future_df['Date'])    #format='%m/%d/%Y'\n",
    "future_df.index = index\n",
    "future_df.drop('Date', axis=1, inplace=True)"
   ]
  },
  {
   "cell_type": "code",
   "execution_count": 50,
   "metadata": {
    "id": "1asOyEbMA4EH"
   },
   "outputs": [],
   "source": [
    "test_df['Predictions'] = preds\n",
    "train_df['Predictions'] = preds_train\n",
    "#future_df['Predictions'] = nextday_closing_price"
   ]
  },
  {
   "cell_type": "code",
   "execution_count": 51,
   "metadata": {
    "colab": {
     "base_uri": "https://localhost:8080/",
     "height": 54
    },
    "id": "o8_3myQCK1B9",
    "outputId": "9477d4d3-1f12-448f-80c0-2a2487e192cb"
   },
   "outputs": [
    {
     "data": {
      "image/png": "[encoded data removed]",
      "text/plain": [
       "<Figure size 1152x576 with 1 Axes>"
      ]
     },
     "metadata": {
      "needs_background": "light"
     },
     "output_type": "display_data"
    }
   ],
   "source": [
    "plt.figure(figsize=(16,8))\n",
    "plt.plot(train_df['Close'], label='Actual Price for training set')\n",
    "plt.plot(test_df['Close'], label='Actual Price for testing set')\n",
    "plt.plot(train_df['Predictions'], label='Predicted Price for training set')\n",
    "plt.plot(test_df['Predictions'], label='Predicted Price for testing set')\n",
    "#plt.plot(future_df['Predictions'], label='Predicted Price for future set')\n",
    "plt.xlabel('Year', fontsize=15)\n",
    "plt.ylabel('Stock Price', fontsize=15)\n",
    "plt.title('Fitting curve between predicted and real prices using LSTM')\n",
    "plt.legend()\n",
    "\n",
    "plt.show()"
   ]
  },
  {
   "cell_type": "markdown",
   "metadata": {},
   "source": [
    "## Compare performance (Error values of all the algorithms)"
   ]
  },
  {
   "cell_type": "code",
   "execution_count": 52,
   "metadata": {
    "colab": {
     "base_uri": "https://localhost:8080/",
     "height": 339
    },
    "id": "c-oqDxawvTqP",
    "outputId": "e7069a90-b535-4c1d-f5f8-80c240026aa0"
   },
   "outputs": [
    {
     "data": {
      "text/html": [
       "<div>\n",
       "<style scoped>\n",
       "    .dataframe tbody tr th:only-of-type {\n",
       "        vertical-align: middle;\n",
       "    }\n",
       "\n",
       "    .dataframe tbody tr th {\n",
       "        vertical-align: top;\n",
       "    }\n",
       "\n",
       "    .dataframe thead th {\n",
       "        text-align: right;\n",
       "    }\n",
       "</style>\n",
       "<table border=\"1\" class=\"dataframe\">\n",
       "  <thead>\n",
       "    <tr style=\"text-align: right;\">\n",
       "      <th></th>\n",
       "      <th>Method</th>\n",
       "      <th>R-Square Error(Training)</th>\n",
       "      <th>R-Square Error(Testing)</th>\n",
       "      <th>Mean Absolute Error(Training)</th>\n",
       "      <th>Mean Absolute Square Error(Testing)</th>\n",
       "      <th>Root Mean Square Error(Training)</th>\n",
       "      <th>Root Mean Square Error(Testing)</th>\n",
       "    </tr>\n",
       "  </thead>\n",
       "  <tbody>\n",
       "    <tr>\n",
       "      <th>0</th>\n",
       "      <td>Linear Regression</td>\n",
       "      <td>0.009144</td>\n",
       "      <td>-4.809720</td>\n",
       "      <td>203.181620</td>\n",
       "      <td>267.204697</td>\n",
       "      <td>259.923719</td>\n",
       "      <td>290.307108</td>\n",
       "    </tr>\n",
       "    <tr>\n",
       "      <th>1</th>\n",
       "      <td>KNN</td>\n",
       "      <td>0.491967</td>\n",
       "      <td>-7.975387</td>\n",
       "      <td>132.594837</td>\n",
       "      <td>285.093765</td>\n",
       "      <td>186.117236</td>\n",
       "      <td>360.833332</td>\n",
       "    </tr>\n",
       "    <tr>\n",
       "      <th>2</th>\n",
       "      <td>SVM</td>\n",
       "      <td>-0.045406</td>\n",
       "      <td>-2.611942</td>\n",
       "      <td>195.339557</td>\n",
       "      <td>205.305532</td>\n",
       "      <td>266.982688</td>\n",
       "      <td>228.902456</td>\n",
       "    </tr>\n",
       "    <tr>\n",
       "      <th>3</th>\n",
       "      <td>Random Forest</td>\n",
       "      <td>0.975434</td>\n",
       "      <td>-11.775526</td>\n",
       "      <td>28.937902</td>\n",
       "      <td>335.242405</td>\n",
       "      <td>40.926747</td>\n",
       "      <td>430.496341</td>\n",
       "    </tr>\n",
       "    <tr>\n",
       "      <th>4</th>\n",
       "      <td>LSTM</td>\n",
       "      <td>0.991262</td>\n",
       "      <td>0.988007</td>\n",
       "      <td>14.614927</td>\n",
       "      <td>10.319738</td>\n",
       "      <td>24.237781</td>\n",
       "      <td>13.190099</td>\n",
       "    </tr>\n",
       "  </tbody>\n",
       "</table>\n",
       "</div>"
      ],
      "text/plain": [
       "              Method  R-Square Error(Training)  R-Square Error(Testing)  \\\n",
       "0  Linear Regression                  0.009144                -4.809720   \n",
       "1                KNN                  0.491967                -7.975387   \n",
       "2                SVM                 -0.045406                -2.611942   \n",
       "3      Random Forest                  0.975434               -11.775526   \n",
       "4               LSTM                  0.991262                 0.988007   \n",
       "\n",
       "   Mean Absolute Error(Training)  Mean Absolute Square Error(Testing)  \\\n",
       "0                     203.181620                           267.204697   \n",
       "1                     132.594837                           285.093765   \n",
       "2                     195.339557                           205.305532   \n",
       "3                      28.937902                           335.242405   \n",
       "4                      14.614927                            10.319738   \n",
       "\n",
       "   Root Mean Square Error(Training)  Root Mean Square Error(Testing)  \n",
       "0                        259.923719                       290.307108  \n",
       "1                        186.117236                       360.833332  \n",
       "2                        266.982688                       228.902456  \n",
       "3                         40.926747                       430.496341  \n",
       "4                         24.237781                        13.190099  "
      ]
     },
     "execution_count": 52,
     "metadata": {},
     "output_type": "execute_result"
    }
   ],
   "source": [
    "new_df = pd.DataFrame({\"Method\":[\"Linear Regression\", \"KNN\", \"SVM\", \"Random Forest\", \"LSTM\"],\n",
    "                       \"R-Square Error(Training)\": [r2_linear_train, r2_knn_train, r2_svm_train, r2_rf_train, r2_lstm_train],\n",
    "                        \"R-Square Error(Testing)\": [r2_linear_test, r2_knn_test, r2_svm_test, r2_rf_test, r2_lstm_test],\n",
    "                       \"Mean Absolute Error(Training)\": [mae_linear_train, mae_knn_train, mae_svm_train, mae_rf_train, mae_lstm_train],\n",
    "                        \"Mean Absolute Square Error(Testing)\": [mae_linear_test, mae_knn_test, mae_svm_test, mae_rf_test, mae_lstm_test],\n",
    "                       \"Root Mean Square Error(Training)\": [rms_linear_train, rms_knn_train, rms_svm_train, rms_rf_train, rms_lstm_train],\n",
    "                        \"Root Mean Square Error(Testing)\": [rms_linear_test, rms_knn_test, rms_svm_test, rms_rf_test, rms_lstm_test],\n",
    "                       })\n",
    "new_df"
   ]
  },
  {
   "cell_type": "markdown",
   "metadata": {},
   "source": [
    "# 4) Predict price for future dates"
   ]
  },
  {
   "cell_type": "code",
   "execution_count": 53,
   "metadata": {
    "colab": {
     "base_uri": "https://localhost:8080/",
     "height": 363
    },
    "id": "Vkf6ws86lbCf",
    "outputId": "cfea2f16-7ea6-4d6c-f48f-81aee6566266"
   },
   "outputs": [
    {
     "data": {
      "text/html": [
       "<div>\n",
       "<style scoped>\n",
       "    .dataframe tbody tr th:only-of-type {\n",
       "        vertical-align: middle;\n",
       "    }\n",
       "\n",
       "    .dataframe tbody tr th {\n",
       "        vertical-align: top;\n",
       "    }\n",
       "\n",
       "    .dataframe thead th {\n",
       "        text-align: right;\n",
       "    }\n",
       "</style>\n",
       "<table border=\"1\" class=\"dataframe\">\n",
       "  <thead>\n",
       "    <tr style=\"text-align: right;\">\n",
       "      <th></th>\n",
       "      <th>Days</th>\n",
       "      <th>Linear Regression</th>\n",
       "      <th>KNN</th>\n",
       "      <th>SVM</th>\n",
       "      <th>Random Forest</th>\n",
       "      <th>LSTM</th>\n",
       "    </tr>\n",
       "  </thead>\n",
       "  <tbody>\n",
       "    <tr>\n",
       "      <th>0</th>\n",
       "      <td>Day1</td>\n",
       "      <td>541.232178</td>\n",
       "      <td>283.000000</td>\n",
       "      <td>435.999910</td>\n",
       "      <td>253.4635</td>\n",
       "      <td>427.928864</td>\n",
       "    </tr>\n",
       "    <tr>\n",
       "      <th>1</th>\n",
       "      <td>Day2</td>\n",
       "      <td>540.980760</td>\n",
       "      <td>251.294444</td>\n",
       "      <td>435.999915</td>\n",
       "      <td>213.7250</td>\n",
       "      <td>429.569153</td>\n",
       "    </tr>\n",
       "    <tr>\n",
       "      <th>2</th>\n",
       "      <td>Day3</td>\n",
       "      <td>540.729342</td>\n",
       "      <td>247.822222</td>\n",
       "      <td>435.999920</td>\n",
       "      <td>225.2810</td>\n",
       "      <td>433.212280</td>\n",
       "    </tr>\n",
       "    <tr>\n",
       "      <th>3</th>\n",
       "      <td>Day4</td>\n",
       "      <td>540.477924</td>\n",
       "      <td>228.183333</td>\n",
       "      <td>435.999926</td>\n",
       "      <td>227.8460</td>\n",
       "      <td>436.226990</td>\n",
       "    </tr>\n",
       "    <tr>\n",
       "      <th>4</th>\n",
       "      <td>Day5</td>\n",
       "      <td>543.560307</td>\n",
       "      <td>289.394444</td>\n",
       "      <td>436.000004</td>\n",
       "      <td>196.3880</td>\n",
       "      <td>438.460571</td>\n",
       "    </tr>\n",
       "    <tr>\n",
       "      <th>5</th>\n",
       "      <td>Day6</td>\n",
       "      <td>543.308889</td>\n",
       "      <td>254.055556</td>\n",
       "      <td>436.000010</td>\n",
       "      <td>168.5015</td>\n",
       "      <td>441.039062</td>\n",
       "    </tr>\n",
       "    <tr>\n",
       "      <th>6</th>\n",
       "      <td>Day7</td>\n",
       "      <td>543.057471</td>\n",
       "      <td>217.688889</td>\n",
       "      <td>436.000015</td>\n",
       "      <td>153.1005</td>\n",
       "      <td>443.689758</td>\n",
       "    </tr>\n",
       "    <tr>\n",
       "      <th>7</th>\n",
       "      <td>Day8</td>\n",
       "      <td>542.806053</td>\n",
       "      <td>187.694444</td>\n",
       "      <td>436.000020</td>\n",
       "      <td>169.2960</td>\n",
       "      <td>446.437103</td>\n",
       "    </tr>\n",
       "    <tr>\n",
       "      <th>8</th>\n",
       "      <td>Day9</td>\n",
       "      <td>542.554635</td>\n",
       "      <td>269.438889</td>\n",
       "      <td>436.000026</td>\n",
       "      <td>158.2890</td>\n",
       "      <td>449.372528</td>\n",
       "    </tr>\n",
       "    <tr>\n",
       "      <th>9</th>\n",
       "      <td>Day10</td>\n",
       "      <td>545.637018</td>\n",
       "      <td>401.833333</td>\n",
       "      <td>436.000104</td>\n",
       "      <td>222.8715</td>\n",
       "      <td>452.486298</td>\n",
       "    </tr>\n",
       "  </tbody>\n",
       "</table>\n",
       "</div>"
      ],
      "text/plain": [
       "    Days  Linear Regression         KNN         SVM  Random Forest        LSTM\n",
       "0   Day1         541.232178  283.000000  435.999910       253.4635  427.928864\n",
       "1   Day2         540.980760  251.294444  435.999915       213.7250  429.569153\n",
       "2   Day3         540.729342  247.822222  435.999920       225.2810  433.212280\n",
       "3   Day4         540.477924  228.183333  435.999926       227.8460  436.226990\n",
       "4   Day5         543.560307  289.394444  436.000004       196.3880  438.460571\n",
       "5   Day6         543.308889  254.055556  436.000010       168.5015  441.039062\n",
       "6   Day7         543.057471  217.688889  436.000015       153.1005  443.689758\n",
       "7   Day8         542.806053  187.694444  436.000020       169.2960  446.437103\n",
       "8   Day9         542.554635  269.438889  436.000026       158.2890  449.372528\n",
       "9  Day10         545.637018  401.833333  436.000104       222.8715  452.486298"
      ]
     },
     "execution_count": 53,
     "metadata": {},
     "output_type": "execute_result"
    }
   ],
   "source": [
    "new_df = pd.DataFrame({\"Days\": ['Day1','Day2','Day3','Day4','Day5','Day6','Day7','Day8','Day9','Day10'],\n",
    "                       \"Linear Regression\": future_preds_lr,\n",
    "                       \"KNN\": future_preds_knn,\n",
    "                       \"SVM\": future_preds_svm,\n",
    "                       \"Random Forest\": future_preds_rf,\n",
    "                       \"LSTM\": nextday_closing_price.flatten()\n",
    "                       })\n",
    "new_df"
   ]
  },
  {
   "cell_type": "code",
   "execution_count": null,
   "metadata": {},
   "outputs": [],
   "source": []
  }
 ],
 "metadata": {
  "accelerator": "GPU",
  "colab": {
   "collapsed_sections": [],
   "name": "Project.ipynb",
   "provenance": []
  },
  "kernelspec": {
   "display_name": "Python 3 (ipykernel)",
   "language": "python",
   "name": "python3"
  },
  "language_info": {
   "codemirror_mode": {
    "name": "ipython",
    "version": 3
   },
   "file_extension": ".py",
   "mimetype": "text/x-python",
   "name": "python",
   "nbconvert_exporter": "python",
   "pygments_lexer": "ipython3",
   "version": "3.9.12"
  }
 },
 "nbformat": 4,
 "nbformat_minor": 1
}
